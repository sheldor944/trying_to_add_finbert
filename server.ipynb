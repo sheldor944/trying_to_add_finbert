{
 "cells": [
  {
   "cell_type": "code",
   "execution_count": 17,
   "metadata": {},
   "outputs": [],
   "source": [
    "import numpy as np\n",
    "import pandas as pd\n",
    "from sklearn.preprocessing import MinMaxScaler\n",
    "from sklearn.metrics import mean_absolute_error\n",
    "from sklearn.metrics import mean_absolute_percentage_error\n",
    "import tensorflow as tf\n",
    "import matplotlib.pyplot as plt\n",
    "import os\n",
    "from sklearn.preprocessing import RobustScaler\n",
    "from keras.models import load_model\n",
    "from joblib import dump, load"
   ]
  },
  {
   "cell_type": "code",
   "execution_count": 18,
   "metadata": {},
   "outputs": [
    {
     "name": "stdout",
     "output_type": "stream",
     "text": [
      "GPU memory growth enabled\n"
     ]
    }
   ],
   "source": [
    "os.environ['TF_CPP_MIN_LOG_LEVEL'] = '2'\n",
    "\n",
    "\n",
    "# GPU Configuration\n",
    "physical_devices = tf.config.list_physical_devices('GPU')\n",
    "if len(physical_devices) > 0:\n",
    "    try:\n",
    "        for device in physical_devices:\n",
    "            tf.config.experimental.set_memory_growth(device, True)\n",
    "        print(\"GPU memory growth enabled\")\n",
    "    except RuntimeError as e:\n",
    "        print(e)\n",
    "# import os\n",
    "# os.environ['CUDA_VISIBLE_DEVICES'] = '-1'  # Force CPU usage\n"
   ]
  },
  {
   "cell_type": "markdown",
   "metadata": {},
   "source": [
    "# current working sequence \n",
    "## Assuming model is trained till time x //\n",
    "## So assume X+15 //\n",
    "## Upload it //\n",
    "## wait 15 min //\n",
    "## get new data //\n",
    "## add it to the list // \n",
    "## scale it with load->save \n",
    "## finetune it\n",
    "# repeat "
   ]
  },
  {
   "cell_type": "markdown",
   "metadata": {},
   "source": [
    "# GLOBAL VARIABLES"
   ]
  },
  {
   "cell_type": "code",
   "execution_count": 19,
   "metadata": {},
   "outputs": [],
   "source": [
    "split = 0.85\n",
    "sequence_length = 60\n",
    "epochs = 50\n",
    "learning_rate = 0.0001"
   ]
  },
  {
   "cell_type": "code",
   "execution_count": 20,
   "metadata": {},
   "outputs": [],
   "source": [
    "def init():\n",
    "    stock_data = pd.read_csv(\"runningData15.csv\", delimiter=\",\")\n",
    "    close_prices = stock_data['close'].values.reshape(-1, 1) \n",
    "    scaler = load('scaler.joblib')\n",
    "    test_scaled = scaler.transform(close_prices)\n",
    "    dump(scaler, 'scaler.joblib')\n",
    "\n",
    "    X_test_new = []\n",
    "    y_test_new = []\n",
    "    #Dummy\n",
    "    y_test_new.append(test_scaled[sequence_length -1])\n",
    "    len_test = len(test_scaled)\n",
    "    print(test_scaled.shape)\n",
    "    for i in range(len_test - sequence_length + 1 ):\n",
    "        X_test_new.append(test_scaled[i:i + sequence_length].flatten())  # Flatten the sequence\n",
    "        if i + sequence_length < len_test:\n",
    "            y_test_new.append(test_scaled[i + sequence_length])\n",
    "    X_test_new = np.array(X_test_new)\n",
    "    y_test_new = np.array(y_test_new)\n",
    "    y_test_new_original = scaler.inverse_transform(y_test_new.reshape(-1, 1))\n",
    "    \n",
    "    return X_test_new, y_test_new, y_test_new_original"
   ]
  },
  {
   "cell_type": "code",
   "execution_count": 21,
   "metadata": {},
   "outputs": [
    {
     "name": "stdout",
     "output_type": "stream",
     "text": [
      "(2083, 1)\n",
      "[[3308.57 ]\n",
      " [3309.305]\n",
      " [3314.065]\n",
      " [3321.965]\n",
      " [3325.44 ]\n",
      " [3326.395]\n",
      " [3330.94 ]\n",
      " [3331.11 ]\n",
      " [3323.1  ]\n",
      " [3328.235]\n",
      " [3326.87 ]\n",
      " [3328.77 ]\n",
      " [3328.205]\n",
      " [3326.665]\n",
      " [3332.105]\n",
      " [3337.005]\n",
      " [3339.465]\n",
      " [3337.715]\n",
      " [3338.965]\n",
      " [3338.175]\n",
      " [3336.71 ]\n",
      " [3334.55 ]\n",
      " [3338.675]\n",
      " [3339.25 ]\n",
      " [3343.18 ]\n",
      " [3354.485]\n",
      " [3353.045]\n",
      " [3353.01 ]\n",
      " [3351.22 ]\n",
      " [3350.065]\n",
      " [3351.19 ]\n",
      " [3351.615]\n",
      " [3350.2  ]\n",
      " [3345.52 ]\n",
      " [3348.855]\n",
      " [3342.905]\n",
      " [3345.42 ]\n",
      " [3353.025]\n",
      " [3348.205]\n",
      " [3342.9  ]\n",
      " [3324.095]\n",
      " [3335.19 ]\n",
      " [3337.365]\n",
      " [3331.84 ]\n",
      " [3340.525]\n",
      " [3340.96 ]\n",
      " [3342.855]\n",
      " [3342.03 ]\n",
      " [3344.635]\n",
      " [3343.84 ]\n",
      " [3341.94 ]\n",
      " [3338.66 ]\n",
      " [3341.595]\n",
      " [3336.93 ]\n",
      " [3336.96 ]\n",
      " [3333.395]\n",
      " [3329.48 ]\n",
      " [3330.855]\n",
      " [3328.045]\n",
      " [3331.685]]\n",
      "====\n",
      "[3331.685]\n"
     ]
    }
   ],
   "source": [
    "scaler = load('scaler.joblib')\n",
    "\n",
    "x, y, y_original = init()\n",
    "x_og = scaler.inverse_transform(x[-1].reshape(-1, 1))\n",
    "print(x_og)\n",
    "print(\"====\")\n",
    "print(y_original[-1])"
   ]
  },
  {
   "cell_type": "markdown",
   "metadata": {},
   "source": [
    "# Step 1 Predicting and uploading "
   ]
  },
  {
   "cell_type": "code",
   "execution_count": 22,
   "metadata": {},
   "outputs": [],
   "source": [
    "import requests\n",
    "import numpy as np\n",
    "from datetime import datetime\n",
    "from uuid import UUID\n",
    "from typing import Optional\n",
    "from pydantic import BaseModel\n",
    "\n",
    "class PredictionRequest(BaseModel):\n",
    "    stock_id: Optional[UUID] = None\n",
    "    symbol: Optional[str] = None\n",
    "    opening_price: Optional[float] = None\n",
    "    closing_price: Optional[float] = None\n",
    "    high_price: Optional[float] = None\n",
    "    low_price: Optional[float] = None\n",
    "    volume: Optional[float] = None\n",
    "    date: Optional[datetime] = None\n",
    "    prediction_direction: Optional[bool] = None"
   ]
  },
  {
   "cell_type": "code",
   "execution_count": 23,
   "metadata": {},
   "outputs": [],
   "source": [
    "def direction(y_original, y_pred):\n",
    "    if y_original < y_pred:\n",
    "        return True\n",
    "    else:\n",
    "        return False"
   ]
  },
  {
   "cell_type": "code",
   "execution_count": 24,
   "metadata": {},
   "outputs": [],
   "source": [
    "def upload_prediction(y_test_new_original, results):\n",
    "    API_URL = \"http://127.0.0.1:8000/api/v1/prediction\"\n",
    "    HEADERS = {\n",
    "        \"Content-Type\": \"application/json\",\n",
    "        \"Authorization\": \"Bearer your_api_key_here\"\n",
    "    }\n",
    "    \n",
    "    # Safely extract the last result value\n",
    "    last_result = results[-1]\n",
    "    if isinstance(last_result, np.ndarray):\n",
    "        last_result = float(last_result.item())  # Properly extract scalar from array\n",
    "    \n",
    "    # Create the prediction request with Pydantic v2 syntax\n",
    "    prediction_request = PredictionRequest(\n",
    "        stock_id='ade11ce0-a353-427d-9ae7-26b948454eab',\n",
    "        symbol=\"XAUUSD\",\n",
    "        opening_price=0.0,\n",
    "        closing_price=last_result,\n",
    "        high_price=0.0,\n",
    "        low_price=0.0,\n",
    "        volume=0.0,\n",
    "        date=datetime.now(),\n",
    "        prediction_direction=direction(y_test_new_original[-1], last_result)\n",
    "    )\n",
    "    \n",
    "    # Convert to dict with proper serialization (Pydantic v2 syntax)\n",
    "    request_data = prediction_request.model_dump()\n",
    "    \n",
    "    # Ensure proper serialization of special types\n",
    "    if request_data['stock_id']:\n",
    "        request_data['stock_id'] = str(request_data['stock_id'])\n",
    "    if request_data['date']:\n",
    "        request_data['date'] = request_data['date'].isoformat()\n",
    "    \n",
    "    try:\n",
    "        response = requests.post(\n",
    "            API_URL,\n",
    "            json=request_data,\n",
    "            headers=HEADERS,\n",
    "            timeout=10\n",
    "        )\n",
    "        \n",
    "        if response.status_code == 200:\n",
    "            print(\"Prediction uploaded successfully\")\n",
    "            return True\n",
    "        else:\n",
    "            print(f\"Failed to upload prediction: {response.status_code} - {response.text}\")\n",
    "            return False\n",
    "    except Exception as e:\n",
    "        print(f\"Error uploading prediction: {str(e)}\")\n",
    "        return False"
   ]
  },
  {
   "cell_type": "code",
   "execution_count": 25,
   "metadata": {},
   "outputs": [],
   "source": [
    "# results is like result =[], python list\n",
    "\n",
    "def assume_and_upload(model, X_test, y_test, scaler, y_test_original, results):\n",
    "    current_input = X_test[-1].reshape(1, sequence_length)\n",
    "    prediction = model.predict(current_input, verbose=0)\n",
    "    results.append(scaler.inverse_transform(prediction.reshape(-1, 1)))\n",
    "\n",
    "    print(f\"Predicted: {results[-1]}\")\n",
    "\n",
    "    upload_prediction(y_test_original, results)\n",
    "    return results\n",
    "\n"
   ]
  },
  {
   "cell_type": "markdown",
   "metadata": {},
   "source": [
    "# get New Data\n"
   ]
  },
  {
   "cell_type": "code",
   "execution_count": 26,
   "metadata": {},
   "outputs": [],
   "source": [
    "def getLiveData(symbol: str, exchange: str, interval: str, n_bars: int):\n",
    "\n",
    "\n",
    "        from tvDatafeed import TvDatafeedLive, Interval\n",
    "        import pandas as pd\n",
    "\n",
    "\n",
    "        username = 'your_actual_username'\n",
    "        password = 'your_actual_password'\n",
    "\n",
    "        tvl = TvDatafeedLive()\n",
    "\n",
    "        xauusd_data = tvl.get_hist(symbol, exchange, interval=Interval.in_15_minute, n_bars=n_bars, fut_contract=None, extended_session=False, timeout=-1)\n",
    "        # print(xauusd_data)\n",
    "\n",
    "        # seis = tvl.new_seis('ETHUSDT', 'BINANCE', Interval.in_1_hour)\n",
    "        # seis2 = tvl.new_seis('ETHUSDT', 'BINANCE', Interval.in_2_hour)\n",
    "\n",
    "        # ethusdt_data = seis.get_hist(n_bars=10, timeout=-1)\n",
    "        df = pd.DataFrame(xauusd_data)\n",
    "\n",
    "        # Save to CSV\n",
    "        df.to_csv('lastData.csv', index=True)\n",
    "\n",
    "        # print(\"Data saved to lastData.csv\")\n",
    "        return df\n"
   ]
  },
  {
   "cell_type": "code",
   "execution_count": 27,
   "metadata": {},
   "outputs": [],
   "source": [
    "import time\n",
    "def get_new_data():\n",
    "    while True:\n",
    "        try:\n",
    "            # Get new data\n",
    "            getLiveData('XAUUSD', 'FOREXCOM', '15MIN', 1)\n",
    "            \n",
    "            # Read data - ensure no index is read\n",
    "            main_df = pd.read_csv('runningData15.csv')\n",
    "            new_df = pd.read_csv('lastData.csv')\n",
    "            \n",
    "            # Convert datetime columns\n",
    "            main_df['datetime'] = pd.to_datetime(main_df['datetime'])\n",
    "            new_df['datetime'] = pd.to_datetime(new_df['datetime'])\n",
    "            \n",
    "            # Sort by datetime to ensure chronological order\n",
    "            main_df = main_df.sort_values('datetime')\n",
    "            new_df = new_df.sort_values('datetime')\n",
    "            \n",
    "            # Get timestamps\n",
    "            last_datetime = main_df['datetime'].iloc[-1]\n",
    "            new_datetime = new_df['datetime'].iloc[0]\n",
    "            \n",
    "            if new_datetime > last_datetime:\n",
    "                # Verify and clean new data before appending\n",
    "                new_df = new_df[new_df['datetime'] > last_datetime]\n",
    "                \n",
    "                # Combine data\n",
    "                combined_df = pd.concat([main_df, new_df], ignore_index=True)\n",
    "                \n",
    "                # Save without index and with exact column order\n",
    "                combined_df.to_csv(\n",
    "                    'runningData15.csv',\n",
    "                    index=False,\n",
    "                    columns=['datetime', 'symbol', 'open', 'high', 'low', 'close', 'volume'],\n",
    "                    date_format='%Y-%m-%d %H:%M:%S'\n",
    "                )\n",
    "                print(f\"✅ Successfully appended {len(new_df)} new records\")\n",
    "                print(f\"Last timestamp now: {new_df['datetime'].iloc[-1]}\")\n",
    "                break\n",
    "                \n",
    "            elif new_datetime == last_datetime:\n",
    "                # print(\"🔄 Data already exists. No update needed.\")\n",
    "                time.sleep(60)\n",
    "                continue\n",
    "                \n",
    "            else:\n",
    "                # print(f\"⏳ New data ({new_datetime}) is older than last record ({last_datetime})\")\n",
    "                time.sleep(60)\n",
    "                continue\n",
    "                \n",
    "        except pd.errors.EmptyDataError:\n",
    "            print(\"⚠️ No data found in files. Retrying...\")\n",
    "            time.sleep(60)\n",
    "            \n",
    "        except Exception as e:\n",
    "            print(f\"❌ Error: {str(e)}\")\n",
    "            time.sleep(60)"
   ]
  },
  {
   "cell_type": "code",
   "execution_count": 28,
   "metadata": {},
   "outputs": [
    {
     "name": "stderr",
     "output_type": "stream",
     "text": [
      "WARNING:tvDatafeed.main:you are using nologin method, data you access may be limited\n",
      "WARNING:tvDatafeed.main:you are using nologin method, data you access may be limited\n"
     ]
    },
    {
     "ename": "KeyboardInterrupt",
     "evalue": "",
     "output_type": "error",
     "traceback": [
      "\u001b[0;31m---------------------------------------------------------------------------\u001b[0m",
      "\u001b[0;31mKeyboardInterrupt\u001b[0m                         Traceback (most recent call last)",
      "Cell \u001b[0;32mIn[28], line 1\u001b[0m\n\u001b[0;32m----> 1\u001b[0m \u001b[43mget_new_data\u001b[49m\u001b[43m(\u001b[49m\u001b[43m)\u001b[49m\n",
      "Cell \u001b[0;32mIn[27], line 44\u001b[0m, in \u001b[0;36mget_new_data\u001b[0;34m()\u001b[0m\n\u001b[1;32m     40\u001b[0m     \u001b[38;5;28;01mbreak\u001b[39;00m\n\u001b[1;32m     42\u001b[0m \u001b[38;5;28;01melif\u001b[39;00m new_datetime \u001b[38;5;241m==\u001b[39m last_datetime:\n\u001b[1;32m     43\u001b[0m     \u001b[38;5;66;03m# print(\"🔄 Data already exists. No update needed.\")\u001b[39;00m\n\u001b[0;32m---> 44\u001b[0m     \u001b[43mtime\u001b[49m\u001b[38;5;241;43m.\u001b[39;49m\u001b[43msleep\u001b[49m\u001b[43m(\u001b[49m\u001b[38;5;241;43m60\u001b[39;49m\u001b[43m)\u001b[49m\n\u001b[1;32m     45\u001b[0m     \u001b[38;5;28;01mcontinue\u001b[39;00m\n\u001b[1;32m     47\u001b[0m \u001b[38;5;28;01melse\u001b[39;00m:\n\u001b[1;32m     48\u001b[0m     \u001b[38;5;66;03m# print(f\"⏳ New data ({new_datetime}) is older than last record ({last_datetime})\")\u001b[39;00m\n",
      "\u001b[0;31mKeyboardInterrupt\u001b[0m: "
     ]
    }
   ],
   "source": [
    "get_new_data()"
   ]
  },
  {
   "cell_type": "markdown",
   "metadata": {},
   "source": [
    "# FIINTUNE"
   ]
  },
  {
   "cell_type": "code",
   "execution_count": 29,
   "metadata": {},
   "outputs": [],
   "source": [
    "def finetune(model, X_test, y_test, scaler, y_test_original, results):\n",
    "    second_last = X_test[-2].reshape(1, sequence_length)\n",
    "    actual = y_test[-1].reshape(1, 1)\n",
    "    start_time = time.time()\n",
    "    model.fit(second_last,\n",
    "            actual,\n",
    "            epochs=20,\n",
    "            batch_size = 4048,\n",
    "            verbose=0)\n",
    "    model.save('fine_tune_model_march_27_2nd_trial.h5')\n",
    "    end_time = time.time()\n",
    "    print(f\"Model finetuned in {end_time - start_time} seconds\")\n",
    "    return results\n"
   ]
  },
  {
   "cell_type": "code",
   "execution_count": null,
   "metadata": {},
   "outputs": [
    {
     "name": "stderr",
     "output_type": "stream",
     "text": [
      "WARNING:absl:Compiled the loaded model, but the compiled metrics have yet to be built. `model.compile_metrics` will be empty until you train or evaluate the model.\n"
     ]
    },
    {
     "name": "stdout",
     "output_type": "stream",
     "text": [
      "(831, 1)\n"
     ]
    },
    {
     "ename": "NameError",
     "evalue": "name 'scaler' is not defined",
     "output_type": "error",
     "traceback": [
      "\u001b[0;31m---------------------------------------------------------------------------\u001b[0m",
      "\u001b[0;31mNameError\u001b[0m                                 Traceback (most recent call last)",
      "Cell \u001b[0;32mIn[13], line 8\u001b[0m\n\u001b[1;32m      6\u001b[0m x_test, y_test, y_test_original \u001b[38;5;241m=\u001b[39m init()\n\u001b[1;32m      7\u001b[0m results \u001b[38;5;241m=\u001b[39m []\n\u001b[0;32m----> 8\u001b[0m results \u001b[38;5;241m=\u001b[39m finetune(model, x_test, y_test, \u001b[43mscaler\u001b[49m, y_test_original, results)\n",
      "\u001b[0;31mNameError\u001b[0m: name 'scaler' is not defined"
     ]
    }
   ],
   "source": [
    "# model = load_model('fine_tune_model_march_27_2nd_trial.h5')\n",
    "# model.compile(\n",
    "#     loss=tf.keras.losses.MeanSquaredError(),\n",
    "#     optimizer=tf.keras.optimizers.Adam(learning_rate=learning_rate * 0.1)  # Lower learning rate for fine-tuning\n",
    "# )\n",
    "# x_test, y_test, y_test_original = init()\n",
    "# results = []\n",
    "# results = finetune(model, x_test, y_test, scaler, y_test_original, results)"
   ]
  },
  {
   "cell_type": "markdown",
   "metadata": {},
   "source": [
    "# Server"
   ]
  },
  {
   "cell_type": "code",
   "execution_count": 31,
   "metadata": {},
   "outputs": [
    {
     "name": "stderr",
     "output_type": "stream",
     "text": [
      "WARNING:absl:Compiled the loaded model, but the compiled metrics have yet to be built. `model.compile_metrics` will be empty until you train or evaluate the model.\n"
     ]
    },
    {
     "name": "stdout",
     "output_type": "stream",
     "text": [
      "(2087, 1)\n",
      "Predicted: [[3323.7952]]\n",
      "Failed to upload prediction: 201 - {\"message\":\"Prediction created successfully\"}\n"
     ]
    },
    {
     "name": "stderr",
     "output_type": "stream",
     "text": [
      "WARNING:absl:You are saving your model as an HDF5 file via `model.save()` or `keras.saving.save_model(model)`. This file format is considered legacy. We recommend using instead the native Keras format, e.g. `model.save('my_model.keras')` or `keras.saving.save_model(model, 'my_model.keras')`. \n"
     ]
    },
    {
     "name": "stdout",
     "output_type": "stream",
     "text": [
      "Model finetuned in 2.707796096801758 seconds\n"
     ]
    },
    {
     "name": "stderr",
     "output_type": "stream",
     "text": [
      "WARNING:tvDatafeed.main:you are using nologin method, data you access may be limited\n",
      "WARNING:tvDatafeed.main:you are using nologin method, data you access may be limited\n"
     ]
    },
    {
     "name": "stdout",
     "output_type": "stream",
     "text": [
      "✅ Successfully appended 1 new records\n",
      "Last timestamp now: 2025-04-17 13:45:00\n",
      "(2088, 1)\n",
      "Predicted: [[3323.6777]]\n",
      "Failed to upload prediction: 201 - {\"message\":\"Prediction created successfully\"}\n"
     ]
    },
    {
     "name": "stderr",
     "output_type": "stream",
     "text": [
      "WARNING:absl:You are saving your model as an HDF5 file via `model.save()` or `keras.saving.save_model(model)`. This file format is considered legacy. We recommend using instead the native Keras format, e.g. `model.save('my_model.keras')` or `keras.saving.save_model(model, 'my_model.keras')`. \n"
     ]
    },
    {
     "name": "stdout",
     "output_type": "stream",
     "text": [
      "Model finetuned in 0.6252148151397705 seconds\n"
     ]
    },
    {
     "name": "stderr",
     "output_type": "stream",
     "text": [
      "WARNING:tvDatafeed.main:you are using nologin method, data you access may be limited\n",
      "WARNING:tvDatafeed.main:you are using nologin method, data you access may be limited\n"
     ]
    },
    {
     "name": "stdout",
     "output_type": "stream",
     "text": [
      "✅ Successfully appended 1 new records\n",
      "Last timestamp now: 2025-04-17 14:00:00\n",
      "(2089, 1)\n",
      "Predicted: [[3326.1433]]\n",
      "Failed to upload prediction: 201 - {\"message\":\"Prediction created successfully\"}\n"
     ]
    },
    {
     "name": "stderr",
     "output_type": "stream",
     "text": [
      "WARNING:absl:You are saving your model as an HDF5 file via `model.save()` or `keras.saving.save_model(model)`. This file format is considered legacy. We recommend using instead the native Keras format, e.g. `model.save('my_model.keras')` or `keras.saving.save_model(model, 'my_model.keras')`. \n"
     ]
    },
    {
     "name": "stdout",
     "output_type": "stream",
     "text": [
      "Model finetuned in 0.648078203201294 seconds\n"
     ]
    },
    {
     "name": "stderr",
     "output_type": "stream",
     "text": [
      "WARNING:tvDatafeed.main:you are using nologin method, data you access may be limited\n",
      "WARNING:tvDatafeed.main:you are using nologin method, data you access may be limited\n"
     ]
    },
    {
     "name": "stdout",
     "output_type": "stream",
     "text": [
      "✅ Successfully appended 1 new records\n",
      "Last timestamp now: 2025-04-17 14:15:00\n",
      "(2090, 1)\n",
      "Predicted: [[3329.5598]]\n",
      "Failed to upload prediction: 201 - {\"message\":\"Prediction created successfully\"}\n"
     ]
    },
    {
     "name": "stderr",
     "output_type": "stream",
     "text": [
      "WARNING:absl:You are saving your model as an HDF5 file via `model.save()` or `keras.saving.save_model(model)`. This file format is considered legacy. We recommend using instead the native Keras format, e.g. `model.save('my_model.keras')` or `keras.saving.save_model(model, 'my_model.keras')`. \n"
     ]
    },
    {
     "name": "stdout",
     "output_type": "stream",
     "text": [
      "Model finetuned in 0.6292216777801514 seconds\n"
     ]
    },
    {
     "name": "stderr",
     "output_type": "stream",
     "text": [
      "WARNING:tvDatafeed.main:you are using nologin method, data you access may be limited\n",
      "WARNING:tvDatafeed.main:you are using nologin method, data you access may be limited\n"
     ]
    },
    {
     "name": "stdout",
     "output_type": "stream",
     "text": [
      "✅ Successfully appended 1 new records\n",
      "Last timestamp now: 2025-04-17 14:30:00\n",
      "(2091, 1)\n",
      "Predicted: [[3327.9868]]\n",
      "Failed to upload prediction: 201 - {\"message\":\"Prediction created successfully\"}\n"
     ]
    },
    {
     "name": "stderr",
     "output_type": "stream",
     "text": [
      "WARNING:absl:You are saving your model as an HDF5 file via `model.save()` or `keras.saving.save_model(model)`. This file format is considered legacy. We recommend using instead the native Keras format, e.g. `model.save('my_model.keras')` or `keras.saving.save_model(model, 'my_model.keras')`. \n"
     ]
    },
    {
     "name": "stdout",
     "output_type": "stream",
     "text": [
      "Model finetuned in 0.6432187557220459 seconds\n"
     ]
    },
    {
     "name": "stderr",
     "output_type": "stream",
     "text": [
      "WARNING:tvDatafeed.main:you are using nologin method, data you access may be limited\n",
      "WARNING:tvDatafeed.main:you are using nologin method, data you access may be limited\n"
     ]
    },
    {
     "name": "stdout",
     "output_type": "stream",
     "text": [
      "✅ Successfully appended 1 new records\n",
      "Last timestamp now: 2025-04-17 14:45:00\n",
      "(2092, 1)\n",
      "Predicted: [[3319.8457]]\n",
      "Failed to upload prediction: 201 - {\"message\":\"Prediction created successfully\"}\n"
     ]
    },
    {
     "name": "stderr",
     "output_type": "stream",
     "text": [
      "WARNING:absl:You are saving your model as an HDF5 file via `model.save()` or `keras.saving.save_model(model)`. This file format is considered legacy. We recommend using instead the native Keras format, e.g. `model.save('my_model.keras')` or `keras.saving.save_model(model, 'my_model.keras')`. \n"
     ]
    },
    {
     "name": "stdout",
     "output_type": "stream",
     "text": [
      "Model finetuned in 0.6323049068450928 seconds\n"
     ]
    },
    {
     "name": "stderr",
     "output_type": "stream",
     "text": [
      "WARNING:tvDatafeed.main:you are using nologin method, data you access may be limited\n",
      "WARNING:tvDatafeed.main:you are using nologin method, data you access may be limited\n"
     ]
    },
    {
     "name": "stdout",
     "output_type": "stream",
     "text": [
      "✅ Successfully appended 1 new records\n",
      "Last timestamp now: 2025-04-17 15:00:00\n",
      "(2093, 1)\n",
      "Predicted: [[3318.6113]]\n",
      "Failed to upload prediction: 201 - {\"message\":\"Prediction created successfully\"}\n"
     ]
    },
    {
     "name": "stderr",
     "output_type": "stream",
     "text": [
      "WARNING:absl:You are saving your model as an HDF5 file via `model.save()` or `keras.saving.save_model(model)`. This file format is considered legacy. We recommend using instead the native Keras format, e.g. `model.save('my_model.keras')` or `keras.saving.save_model(model, 'my_model.keras')`. \n"
     ]
    },
    {
     "name": "stdout",
     "output_type": "stream",
     "text": [
      "Model finetuned in 0.658515214920044 seconds\n"
     ]
    },
    {
     "name": "stderr",
     "output_type": "stream",
     "text": [
      "WARNING:tvDatafeed.main:you are using nologin method, data you access may be limited\n",
      "WARNING:tvDatafeed.main:you are using nologin method, data you access may be limited\n"
     ]
    },
    {
     "name": "stdout",
     "output_type": "stream",
     "text": [
      "✅ Successfully appended 1 new records\n",
      "Last timestamp now: 2025-04-17 15:15:00\n",
      "(2094, 1)\n",
      "Predicted: [[3327.972]]\n",
      "Failed to upload prediction: 201 - {\"message\":\"Prediction created successfully\"}\n"
     ]
    },
    {
     "name": "stderr",
     "output_type": "stream",
     "text": [
      "WARNING:absl:You are saving your model as an HDF5 file via `model.save()` or `keras.saving.save_model(model)`. This file format is considered legacy. We recommend using instead the native Keras format, e.g. `model.save('my_model.keras')` or `keras.saving.save_model(model, 'my_model.keras')`. \n"
     ]
    },
    {
     "name": "stdout",
     "output_type": "stream",
     "text": [
      "Model finetuned in 0.6456375122070312 seconds\n"
     ]
    },
    {
     "name": "stderr",
     "output_type": "stream",
     "text": [
      "WARNING:tvDatafeed.main:you are using nologin method, data you access may be limited\n",
      "WARNING:tvDatafeed.main:you are using nologin method, data you access may be limited\n"
     ]
    },
    {
     "name": "stdout",
     "output_type": "stream",
     "text": [
      "✅ Successfully appended 1 new records\n",
      "Last timestamp now: 2025-04-17 15:30:00\n",
      "(2095, 1)\n",
      "Predicted: [[3328.27]]\n",
      "Failed to upload prediction: 201 - {\"message\":\"Prediction created successfully\"}\n"
     ]
    },
    {
     "name": "stderr",
     "output_type": "stream",
     "text": [
      "WARNING:absl:You are saving your model as an HDF5 file via `model.save()` or `keras.saving.save_model(model)`. This file format is considered legacy. We recommend using instead the native Keras format, e.g. `model.save('my_model.keras')` or `keras.saving.save_model(model, 'my_model.keras')`. \n"
     ]
    },
    {
     "name": "stdout",
     "output_type": "stream",
     "text": [
      "Model finetuned in 0.6743602752685547 seconds\n"
     ]
    },
    {
     "name": "stderr",
     "output_type": "stream",
     "text": [
      "WARNING:tvDatafeed.main:you are using nologin method, data you access may be limited\n",
      "ERROR:tvDatafeed.main:The read operation timed out\n",
      "ERROR:tvDatafeed.main:no data, please check the exchange and symbol\n"
     ]
    },
    {
     "name": "stdout",
     "output_type": "stream",
     "text": [
      "❌ Error: 'datetime'\n"
     ]
    },
    {
     "name": "stderr",
     "output_type": "stream",
     "text": [
      "WARNING:tvDatafeed.main:you are using nologin method, data you access may be limited\n"
     ]
    },
    {
     "name": "stdout",
     "output_type": "stream",
     "text": [
      "✅ Successfully appended 1 new records\n",
      "Last timestamp now: 2025-04-17 15:45:00\n",
      "(2096, 1)\n",
      "Predicted: [[3323.8074]]\n",
      "Failed to upload prediction: 201 - {\"message\":\"Prediction created successfully\"}\n"
     ]
    },
    {
     "name": "stderr",
     "output_type": "stream",
     "text": [
      "WARNING:absl:You are saving your model as an HDF5 file via `model.save()` or `keras.saving.save_model(model)`. This file format is considered legacy. We recommend using instead the native Keras format, e.g. `model.save('my_model.keras')` or `keras.saving.save_model(model, 'my_model.keras')`. \n"
     ]
    },
    {
     "name": "stdout",
     "output_type": "stream",
     "text": [
      "Model finetuned in 0.6618309020996094 seconds\n"
     ]
    },
    {
     "name": "stderr",
     "output_type": "stream",
     "text": [
      "WARNING:tvDatafeed.main:you are using nologin method, data you access may be limited\n",
      "WARNING:tvDatafeed.main:you are using nologin method, data you access may be limited\n"
     ]
    },
    {
     "name": "stdout",
     "output_type": "stream",
     "text": [
      "✅ Successfully appended 1 new records\n",
      "Last timestamp now: 2025-04-17 16:00:00\n",
      "(2097, 1)\n",
      "Predicted: [[3322.5747]]\n",
      "Failed to upload prediction: 201 - {\"message\":\"Prediction created successfully\"}\n"
     ]
    },
    {
     "name": "stderr",
     "output_type": "stream",
     "text": [
      "WARNING:absl:You are saving your model as an HDF5 file via `model.save()` or `keras.saving.save_model(model)`. This file format is considered legacy. We recommend using instead the native Keras format, e.g. `model.save('my_model.keras')` or `keras.saving.save_model(model, 'my_model.keras')`. \n"
     ]
    },
    {
     "name": "stdout",
     "output_type": "stream",
     "text": [
      "Model finetuned in 0.6626484394073486 seconds\n"
     ]
    },
    {
     "name": "stderr",
     "output_type": "stream",
     "text": [
      "WARNING:tvDatafeed.main:you are using nologin method, data you access may be limited\n",
      "WARNING:tvDatafeed.main:you are using nologin method, data you access may be limited\n"
     ]
    },
    {
     "name": "stdout",
     "output_type": "stream",
     "text": [
      "✅ Successfully appended 1 new records\n",
      "Last timestamp now: 2025-04-17 16:15:00\n",
      "(2098, 1)\n",
      "Predicted: [[3319.6091]]\n",
      "Failed to upload prediction: 201 - {\"message\":\"Prediction created successfully\"}\n"
     ]
    },
    {
     "name": "stderr",
     "output_type": "stream",
     "text": [
      "WARNING:absl:You are saving your model as an HDF5 file via `model.save()` or `keras.saving.save_model(model)`. This file format is considered legacy. We recommend using instead the native Keras format, e.g. `model.save('my_model.keras')` or `keras.saving.save_model(model, 'my_model.keras')`. \n"
     ]
    },
    {
     "name": "stdout",
     "output_type": "stream",
     "text": [
      "Model finetuned in 0.6446630954742432 seconds\n"
     ]
    },
    {
     "name": "stderr",
     "output_type": "stream",
     "text": [
      "WARNING:tvDatafeed.main:you are using nologin method, data you access may be limited\n",
      "WARNING:tvDatafeed.main:you are using nologin method, data you access may be limited\n"
     ]
    },
    {
     "name": "stdout",
     "output_type": "stream",
     "text": [
      "✅ Successfully appended 1 new records\n",
      "Last timestamp now: 2025-04-17 16:30:00\n",
      "(2099, 1)\n",
      "Predicted: [[3319.4885]]\n",
      "Failed to upload prediction: 201 - {\"message\":\"Prediction created successfully\"}\n"
     ]
    },
    {
     "name": "stderr",
     "output_type": "stream",
     "text": [
      "WARNING:absl:You are saving your model as an HDF5 file via `model.save()` or `keras.saving.save_model(model)`. This file format is considered legacy. We recommend using instead the native Keras format, e.g. `model.save('my_model.keras')` or `keras.saving.save_model(model, 'my_model.keras')`. \n"
     ]
    },
    {
     "name": "stdout",
     "output_type": "stream",
     "text": [
      "Model finetuned in 0.6340503692626953 seconds\n"
     ]
    },
    {
     "name": "stderr",
     "output_type": "stream",
     "text": [
      "WARNING:tvDatafeed.main:you are using nologin method, data you access may be limited\n",
      "WARNING:tvDatafeed.main:you are using nologin method, data you access may be limited\n"
     ]
    },
    {
     "name": "stdout",
     "output_type": "stream",
     "text": [
      "✅ Successfully appended 1 new records\n",
      "Last timestamp now: 2025-04-17 16:45:00\n",
      "(2100, 1)\n",
      "Predicted: [[3325.2595]]\n",
      "Failed to upload prediction: 201 - {\"message\":\"Prediction created successfully\"}\n"
     ]
    },
    {
     "name": "stderr",
     "output_type": "stream",
     "text": [
      "WARNING:absl:You are saving your model as an HDF5 file via `model.save()` or `keras.saving.save_model(model)`. This file format is considered legacy. We recommend using instead the native Keras format, e.g. `model.save('my_model.keras')` or `keras.saving.save_model(model, 'my_model.keras')`. \n"
     ]
    },
    {
     "name": "stdout",
     "output_type": "stream",
     "text": [
      "Model finetuned in 0.635767936706543 seconds\n"
     ]
    },
    {
     "name": "stderr",
     "output_type": "stream",
     "text": [
      "WARNING:tvDatafeed.main:you are using nologin method, data you access may be limited\n",
      "WARNING:tvDatafeed.main:you are using nologin method, data you access may be limited\n"
     ]
    },
    {
     "name": "stdout",
     "output_type": "stream",
     "text": [
      "✅ Successfully appended 1 new records\n",
      "Last timestamp now: 2025-04-17 17:00:00\n",
      "(2101, 1)\n",
      "Predicted: [[3330.5024]]\n",
      "Failed to upload prediction: 201 - {\"message\":\"Prediction created successfully\"}\n"
     ]
    },
    {
     "name": "stderr",
     "output_type": "stream",
     "text": [
      "WARNING:absl:You are saving your model as an HDF5 file via `model.save()` or `keras.saving.save_model(model)`. This file format is considered legacy. We recommend using instead the native Keras format, e.g. `model.save('my_model.keras')` or `keras.saving.save_model(model, 'my_model.keras')`. \n"
     ]
    },
    {
     "name": "stdout",
     "output_type": "stream",
     "text": [
      "Model finetuned in 0.6484289169311523 seconds\n"
     ]
    },
    {
     "name": "stderr",
     "output_type": "stream",
     "text": [
      "WARNING:tvDatafeed.main:you are using nologin method, data you access may be limited\n",
      "WARNING:tvDatafeed.main:you are using nologin method, data you access may be limited\n"
     ]
    },
    {
     "name": "stdout",
     "output_type": "stream",
     "text": [
      "✅ Successfully appended 1 new records\n",
      "Last timestamp now: 2025-04-17 17:15:00\n",
      "(2102, 1)\n",
      "Predicted: [[3332.0059]]\n",
      "Failed to upload prediction: 201 - {\"message\":\"Prediction created successfully\"}\n"
     ]
    },
    {
     "name": "stderr",
     "output_type": "stream",
     "text": [
      "WARNING:absl:You are saving your model as an HDF5 file via `model.save()` or `keras.saving.save_model(model)`. This file format is considered legacy. We recommend using instead the native Keras format, e.g. `model.save('my_model.keras')` or `keras.saving.save_model(model, 'my_model.keras')`. \n"
     ]
    },
    {
     "name": "stdout",
     "output_type": "stream",
     "text": [
      "Model finetuned in 0.7313821315765381 seconds\n"
     ]
    },
    {
     "name": "stderr",
     "output_type": "stream",
     "text": [
      "WARNING:tvDatafeed.main:you are using nologin method, data you access may be limited\n",
      "WARNING:tvDatafeed.main:you are using nologin method, data you access may be limited\n"
     ]
    },
    {
     "name": "stdout",
     "output_type": "stream",
     "text": [
      "✅ Successfully appended 1 new records\n",
      "Last timestamp now: 2025-04-17 17:30:00\n",
      "(2103, 1)\n",
      "Predicted: [[3327.853]]\n",
      "Failed to upload prediction: 201 - {\"message\":\"Prediction created successfully\"}\n"
     ]
    },
    {
     "name": "stderr",
     "output_type": "stream",
     "text": [
      "WARNING:absl:You are saving your model as an HDF5 file via `model.save()` or `keras.saving.save_model(model)`. This file format is considered legacy. We recommend using instead the native Keras format, e.g. `model.save('my_model.keras')` or `keras.saving.save_model(model, 'my_model.keras')`. \n"
     ]
    },
    {
     "name": "stdout",
     "output_type": "stream",
     "text": [
      "Model finetuned in 0.6354231834411621 seconds\n"
     ]
    },
    {
     "name": "stderr",
     "output_type": "stream",
     "text": [
      "WARNING:tvDatafeed.main:you are using nologin method, data you access may be limited\n",
      "WARNING:tvDatafeed.main:you are using nologin method, data you access may be limited\n"
     ]
    },
    {
     "name": "stdout",
     "output_type": "stream",
     "text": [
      "✅ Successfully appended 1 new records\n",
      "Last timestamp now: 2025-04-17 17:45:00\n",
      "(2104, 1)\n",
      "Predicted: [[3328.4844]]\n",
      "Failed to upload prediction: 201 - {\"message\":\"Prediction created successfully\"}\n"
     ]
    },
    {
     "name": "stderr",
     "output_type": "stream",
     "text": [
      "WARNING:absl:You are saving your model as an HDF5 file via `model.save()` or `keras.saving.save_model(model)`. This file format is considered legacy. We recommend using instead the native Keras format, e.g. `model.save('my_model.keras')` or `keras.saving.save_model(model, 'my_model.keras')`. \n"
     ]
    },
    {
     "name": "stdout",
     "output_type": "stream",
     "text": [
      "Model finetuned in 0.6472043991088867 seconds\n"
     ]
    },
    {
     "name": "stderr",
     "output_type": "stream",
     "text": [
      "WARNING:tvDatafeed.main:you are using nologin method, data you access may be limited\n",
      "WARNING:tvDatafeed.main:you are using nologin method, data you access may be limited\n"
     ]
    },
    {
     "name": "stdout",
     "output_type": "stream",
     "text": [
      "✅ Successfully appended 1 new records\n",
      "Last timestamp now: 2025-04-17 18:00:00\n",
      "(2105, 1)\n",
      "Predicted: [[3325.8416]]\n",
      "Failed to upload prediction: 201 - {\"message\":\"Prediction created successfully\"}\n"
     ]
    },
    {
     "name": "stderr",
     "output_type": "stream",
     "text": [
      "WARNING:absl:You are saving your model as an HDF5 file via `model.save()` or `keras.saving.save_model(model)`. This file format is considered legacy. We recommend using instead the native Keras format, e.g. `model.save('my_model.keras')` or `keras.saving.save_model(model, 'my_model.keras')`. \n"
     ]
    },
    {
     "name": "stdout",
     "output_type": "stream",
     "text": [
      "Model finetuned in 0.6410961151123047 seconds\n"
     ]
    },
    {
     "name": "stderr",
     "output_type": "stream",
     "text": [
      "WARNING:tvDatafeed.main:you are using nologin method, data you access may be limited\n",
      "WARNING:tvDatafeed.main:you are using nologin method, data you access may be limited\n"
     ]
    },
    {
     "name": "stdout",
     "output_type": "stream",
     "text": [
      "✅ Successfully appended 1 new records\n",
      "Last timestamp now: 2025-04-17 18:15:00\n",
      "(2106, 1)\n",
      "Predicted: [[3330.1165]]\n",
      "Failed to upload prediction: 201 - {\"message\":\"Prediction created successfully\"}\n"
     ]
    },
    {
     "name": "stderr",
     "output_type": "stream",
     "text": [
      "WARNING:absl:You are saving your model as an HDF5 file via `model.save()` or `keras.saving.save_model(model)`. This file format is considered legacy. We recommend using instead the native Keras format, e.g. `model.save('my_model.keras')` or `keras.saving.save_model(model, 'my_model.keras')`. \n"
     ]
    },
    {
     "name": "stdout",
     "output_type": "stream",
     "text": [
      "Model finetuned in 0.639279842376709 seconds\n"
     ]
    },
    {
     "name": "stderr",
     "output_type": "stream",
     "text": [
      "WARNING:tvDatafeed.main:you are using nologin method, data you access may be limited\n",
      "WARNING:tvDatafeed.main:you are using nologin method, data you access may be limited\n"
     ]
    },
    {
     "name": "stdout",
     "output_type": "stream",
     "text": [
      "✅ Successfully appended 1 new records\n",
      "Last timestamp now: 2025-04-17 18:30:00\n",
      "(2107, 1)\n",
      "Predicted: [[3337.9973]]\n",
      "Failed to upload prediction: 201 - {\"message\":\"Prediction created successfully\"}\n"
     ]
    },
    {
     "name": "stderr",
     "output_type": "stream",
     "text": [
      "WARNING:absl:You are saving your model as an HDF5 file via `model.save()` or `keras.saving.save_model(model)`. This file format is considered legacy. We recommend using instead the native Keras format, e.g. `model.save('my_model.keras')` or `keras.saving.save_model(model, 'my_model.keras')`. \n"
     ]
    },
    {
     "name": "stdout",
     "output_type": "stream",
     "text": [
      "Model finetuned in 0.6410577297210693 seconds\n"
     ]
    },
    {
     "name": "stderr",
     "output_type": "stream",
     "text": [
      "WARNING:tvDatafeed.main:you are using nologin method, data you access may be limited\n",
      "WARNING:tvDatafeed.main:you are using nologin method, data you access may be limited\n"
     ]
    },
    {
     "name": "stdout",
     "output_type": "stream",
     "text": [
      "✅ Successfully appended 1 new records\n",
      "Last timestamp now: 2025-04-17 18:45:00\n",
      "(2108, 1)\n",
      "Predicted: [[3331.8237]]\n",
      "Failed to upload prediction: 201 - {\"message\":\"Prediction created successfully\"}\n"
     ]
    },
    {
     "name": "stderr",
     "output_type": "stream",
     "text": [
      "WARNING:absl:You are saving your model as an HDF5 file via `model.save()` or `keras.saving.save_model(model)`. This file format is considered legacy. We recommend using instead the native Keras format, e.g. `model.save('my_model.keras')` or `keras.saving.save_model(model, 'my_model.keras')`. \n"
     ]
    },
    {
     "name": "stdout",
     "output_type": "stream",
     "text": [
      "Model finetuned in 0.6442141532897949 seconds\n"
     ]
    },
    {
     "name": "stderr",
     "output_type": "stream",
     "text": [
      "WARNING:tvDatafeed.main:you are using nologin method, data you access may be limited\n",
      "WARNING:tvDatafeed.main:you are using nologin method, data you access may be limited\n"
     ]
    },
    {
     "name": "stdout",
     "output_type": "stream",
     "text": [
      "✅ Successfully appended 1 new records\n",
      "Last timestamp now: 2025-04-17 19:00:00\n",
      "(2109, 1)\n",
      "Predicted: [[3321.9307]]\n",
      "Failed to upload prediction: 201 - {\"message\":\"Prediction created successfully\"}\n"
     ]
    },
    {
     "name": "stderr",
     "output_type": "stream",
     "text": [
      "WARNING:absl:You are saving your model as an HDF5 file via `model.save()` or `keras.saving.save_model(model)`. This file format is considered legacy. We recommend using instead the native Keras format, e.g. `model.save('my_model.keras')` or `keras.saving.save_model(model, 'my_model.keras')`. \n"
     ]
    },
    {
     "name": "stdout",
     "output_type": "stream",
     "text": [
      "Model finetuned in 0.6341636180877686 seconds\n"
     ]
    },
    {
     "name": "stderr",
     "output_type": "stream",
     "text": [
      "WARNING:tvDatafeed.main:you are using nologin method, data you access may be limited\n",
      "WARNING:tvDatafeed.main:you are using nologin method, data you access may be limited\n"
     ]
    },
    {
     "name": "stdout",
     "output_type": "stream",
     "text": [
      "✅ Successfully appended 1 new records\n",
      "Last timestamp now: 2025-04-17 19:15:00\n",
      "(2110, 1)\n",
      "Predicted: [[3327.3325]]\n",
      "Failed to upload prediction: 201 - {\"message\":\"Prediction created successfully\"}\n"
     ]
    },
    {
     "name": "stderr",
     "output_type": "stream",
     "text": [
      "WARNING:absl:You are saving your model as an HDF5 file via `model.save()` or `keras.saving.save_model(model)`. This file format is considered legacy. We recommend using instead the native Keras format, e.g. `model.save('my_model.keras')` or `keras.saving.save_model(model, 'my_model.keras')`. \n"
     ]
    },
    {
     "name": "stdout",
     "output_type": "stream",
     "text": [
      "Model finetuned in 0.6687867641448975 seconds\n"
     ]
    },
    {
     "name": "stderr",
     "output_type": "stream",
     "text": [
      "WARNING:tvDatafeed.main:you are using nologin method, data you access may be limited\n",
      "WARNING:tvDatafeed.main:you are using nologin method, data you access may be limited\n"
     ]
    },
    {
     "name": "stdout",
     "output_type": "stream",
     "text": [
      "✅ Successfully appended 1 new records\n",
      "Last timestamp now: 2025-04-17 19:30:00\n",
      "(2111, 1)\n",
      "Predicted: [[3329.1372]]\n",
      "Failed to upload prediction: 201 - {\"message\":\"Prediction created successfully\"}\n"
     ]
    },
    {
     "name": "stderr",
     "output_type": "stream",
     "text": [
      "WARNING:absl:You are saving your model as an HDF5 file via `model.save()` or `keras.saving.save_model(model)`. This file format is considered legacy. We recommend using instead the native Keras format, e.g. `model.save('my_model.keras')` or `keras.saving.save_model(model, 'my_model.keras')`. \n"
     ]
    },
    {
     "name": "stdout",
     "output_type": "stream",
     "text": [
      "Model finetuned in 0.6469719409942627 seconds\n"
     ]
    },
    {
     "name": "stderr",
     "output_type": "stream",
     "text": [
      "WARNING:tvDatafeed.main:you are using nologin method, data you access may be limited\n",
      "WARNING:tvDatafeed.main:you are using nologin method, data you access may be limited\n"
     ]
    },
    {
     "name": "stdout",
     "output_type": "stream",
     "text": [
      "✅ Successfully appended 1 new records\n",
      "Last timestamp now: 2025-04-17 19:45:00\n",
      "(2112, 1)\n",
      "Predicted: [[3325.219]]\n",
      "Failed to upload prediction: 201 - {\"message\":\"Prediction created successfully\"}\n"
     ]
    },
    {
     "name": "stderr",
     "output_type": "stream",
     "text": [
      "WARNING:absl:You are saving your model as an HDF5 file via `model.save()` or `keras.saving.save_model(model)`. This file format is considered legacy. We recommend using instead the native Keras format, e.g. `model.save('my_model.keras')` or `keras.saving.save_model(model, 'my_model.keras')`. \n"
     ]
    },
    {
     "name": "stdout",
     "output_type": "stream",
     "text": [
      "Model finetuned in 0.6396536827087402 seconds\n"
     ]
    },
    {
     "name": "stderr",
     "output_type": "stream",
     "text": [
      "WARNING:tvDatafeed.main:you are using nologin method, data you access may be limited\n",
      "WARNING:tvDatafeed.main:you are using nologin method, data you access may be limited\n"
     ]
    },
    {
     "name": "stdout",
     "output_type": "stream",
     "text": [
      "✅ Successfully appended 1 new records\n",
      "Last timestamp now: 2025-04-17 20:00:00\n",
      "(2113, 1)\n",
      "Predicted: [[3324.0693]]\n",
      "Failed to upload prediction: 201 - {\"message\":\"Prediction created successfully\"}\n"
     ]
    },
    {
     "name": "stderr",
     "output_type": "stream",
     "text": [
      "WARNING:absl:You are saving your model as an HDF5 file via `model.save()` or `keras.saving.save_model(model)`. This file format is considered legacy. We recommend using instead the native Keras format, e.g. `model.save('my_model.keras')` or `keras.saving.save_model(model, 'my_model.keras')`. \n"
     ]
    },
    {
     "name": "stdout",
     "output_type": "stream",
     "text": [
      "Model finetuned in 0.6719851493835449 seconds\n"
     ]
    },
    {
     "name": "stderr",
     "output_type": "stream",
     "text": [
      "WARNING:tvDatafeed.main:you are using nologin method, data you access may be limited\n",
      "WARNING:tvDatafeed.main:you are using nologin method, data you access may be limited\n"
     ]
    },
    {
     "name": "stdout",
     "output_type": "stream",
     "text": [
      "✅ Successfully appended 1 new records\n",
      "Last timestamp now: 2025-04-17 20:15:00\n",
      "(2114, 1)\n",
      "Predicted: [[3316.0767]]\n",
      "Failed to upload prediction: 201 - {\"message\":\"Prediction created successfully\"}\n"
     ]
    },
    {
     "name": "stderr",
     "output_type": "stream",
     "text": [
      "WARNING:absl:You are saving your model as an HDF5 file via `model.save()` or `keras.saving.save_model(model)`. This file format is considered legacy. We recommend using instead the native Keras format, e.g. `model.save('my_model.keras')` or `keras.saving.save_model(model, 'my_model.keras')`. \n"
     ]
    },
    {
     "name": "stdout",
     "output_type": "stream",
     "text": [
      "Model finetuned in 0.6721088886260986 seconds\n"
     ]
    },
    {
     "name": "stderr",
     "output_type": "stream",
     "text": [
      "WARNING:tvDatafeed.main:you are using nologin method, data you access may be limited\n",
      "WARNING:tvDatafeed.main:you are using nologin method, data you access may be limited\n"
     ]
    },
    {
     "name": "stdout",
     "output_type": "stream",
     "text": [
      "✅ Successfully appended 1 new records\n",
      "Last timestamp now: 2025-04-17 20:30:00\n",
      "(2115, 1)\n",
      "Predicted: [[3314.7102]]\n",
      "Failed to upload prediction: 201 - {\"message\":\"Prediction created successfully\"}\n"
     ]
    },
    {
     "name": "stderr",
     "output_type": "stream",
     "text": [
      "WARNING:absl:You are saving your model as an HDF5 file via `model.save()` or `keras.saving.save_model(model)`. This file format is considered legacy. We recommend using instead the native Keras format, e.g. `model.save('my_model.keras')` or `keras.saving.save_model(model, 'my_model.keras')`. \n"
     ]
    },
    {
     "name": "stdout",
     "output_type": "stream",
     "text": [
      "Model finetuned in 0.6491260528564453 seconds\n"
     ]
    },
    {
     "name": "stderr",
     "output_type": "stream",
     "text": [
      "WARNING:tvDatafeed.main:you are using nologin method, data you access may be limited\n",
      "WARNING:tvDatafeed.main:you are using nologin method, data you access may be limited\n"
     ]
    },
    {
     "name": "stdout",
     "output_type": "stream",
     "text": [
      "✅ Successfully appended 1 new records\n",
      "Last timestamp now: 2025-04-17 20:45:00\n",
      "(2116, 1)\n",
      "Predicted: [[3307.0176]]\n",
      "Failed to upload prediction: 201 - {\"message\":\"Prediction created successfully\"}\n"
     ]
    },
    {
     "name": "stderr",
     "output_type": "stream",
     "text": [
      "WARNING:absl:You are saving your model as an HDF5 file via `model.save()` or `keras.saving.save_model(model)`. This file format is considered legacy. We recommend using instead the native Keras format, e.g. `model.save('my_model.keras')` or `keras.saving.save_model(model, 'my_model.keras')`. \n"
     ]
    },
    {
     "name": "stdout",
     "output_type": "stream",
     "text": [
      "Model finetuned in 0.6509275436401367 seconds\n"
     ]
    },
    {
     "name": "stderr",
     "output_type": "stream",
     "text": [
      "WARNING:tvDatafeed.main:you are using nologin method, data you access may be limited\n",
      "WARNING:tvDatafeed.main:you are using nologin method, data you access may be limited\n"
     ]
    },
    {
     "name": "stdout",
     "output_type": "stream",
     "text": [
      "✅ Successfully appended 1 new records\n",
      "Last timestamp now: 2025-04-17 21:00:00\n",
      "(2117, 1)\n",
      "Predicted: [[3296.089]]\n",
      "Failed to upload prediction: 201 - {\"message\":\"Prediction created successfully\"}\n"
     ]
    },
    {
     "name": "stderr",
     "output_type": "stream",
     "text": [
      "WARNING:absl:You are saving your model as an HDF5 file via `model.save()` or `keras.saving.save_model(model)`. This file format is considered legacy. We recommend using instead the native Keras format, e.g. `model.save('my_model.keras')` or `keras.saving.save_model(model, 'my_model.keras')`. \n"
     ]
    },
    {
     "name": "stdout",
     "output_type": "stream",
     "text": [
      "Model finetuned in 0.6354804039001465 seconds\n"
     ]
    },
    {
     "name": "stderr",
     "output_type": "stream",
     "text": [
      "WARNING:tvDatafeed.main:you are using nologin method, data you access may be limited\n",
      "WARNING:tvDatafeed.main:you are using nologin method, data you access may be limited\n"
     ]
    },
    {
     "name": "stdout",
     "output_type": "stream",
     "text": [
      "✅ Successfully appended 1 new records\n",
      "Last timestamp now: 2025-04-17 21:15:00\n",
      "(2118, 1)\n",
      "Predicted: [[3294.1272]]\n",
      "Failed to upload prediction: 201 - {\"message\":\"Prediction created successfully\"}\n"
     ]
    },
    {
     "name": "stderr",
     "output_type": "stream",
     "text": [
      "WARNING:absl:You are saving your model as an HDF5 file via `model.save()` or `keras.saving.save_model(model)`. This file format is considered legacy. We recommend using instead the native Keras format, e.g. `model.save('my_model.keras')` or `keras.saving.save_model(model, 'my_model.keras')`. \n"
     ]
    },
    {
     "name": "stdout",
     "output_type": "stream",
     "text": [
      "Model finetuned in 0.669905424118042 seconds\n"
     ]
    },
    {
     "name": "stderr",
     "output_type": "stream",
     "text": [
      "WARNING:tvDatafeed.main:you are using nologin method, data you access may be limited\n",
      "WARNING:tvDatafeed.main:you are using nologin method, data you access may be limited\n"
     ]
    },
    {
     "name": "stdout",
     "output_type": "stream",
     "text": [
      "✅ Successfully appended 1 new records\n",
      "Last timestamp now: 2025-04-17 21:30:00\n",
      "(2119, 1)\n",
      "Predicted: [[3308.6697]]\n",
      "Failed to upload prediction: 201 - {\"message\":\"Prediction created successfully\"}\n"
     ]
    },
    {
     "name": "stderr",
     "output_type": "stream",
     "text": [
      "WARNING:absl:You are saving your model as an HDF5 file via `model.save()` or `keras.saving.save_model(model)`. This file format is considered legacy. We recommend using instead the native Keras format, e.g. `model.save('my_model.keras')` or `keras.saving.save_model(model, 'my_model.keras')`. \n"
     ]
    },
    {
     "name": "stdout",
     "output_type": "stream",
     "text": [
      "Model finetuned in 0.6663997173309326 seconds\n"
     ]
    },
    {
     "name": "stderr",
     "output_type": "stream",
     "text": [
      "WARNING:tvDatafeed.main:you are using nologin method, data you access may be limited\n",
      "WARNING:tvDatafeed.main:you are using nologin method, data you access may be limited\n"
     ]
    },
    {
     "name": "stdout",
     "output_type": "stream",
     "text": [
      "✅ Successfully appended 1 new records\n",
      "Last timestamp now: 2025-04-17 21:45:00\n",
      "(2120, 1)\n",
      "Predicted: [[3302.44]]\n",
      "Failed to upload prediction: 201 - {\"message\":\"Prediction created successfully\"}\n"
     ]
    },
    {
     "name": "stderr",
     "output_type": "stream",
     "text": [
      "WARNING:absl:You are saving your model as an HDF5 file via `model.save()` or `keras.saving.save_model(model)`. This file format is considered legacy. We recommend using instead the native Keras format, e.g. `model.save('my_model.keras')` or `keras.saving.save_model(model, 'my_model.keras')`. \n"
     ]
    },
    {
     "name": "stdout",
     "output_type": "stream",
     "text": [
      "Model finetuned in 0.6394219398498535 seconds\n"
     ]
    },
    {
     "name": "stderr",
     "output_type": "stream",
     "text": [
      "WARNING:tvDatafeed.main:you are using nologin method, data you access may be limited\n",
      "WARNING:tvDatafeed.main:you are using nologin method, data you access may be limited\n"
     ]
    },
    {
     "name": "stdout",
     "output_type": "stream",
     "text": [
      "✅ Successfully appended 1 new records\n",
      "Last timestamp now: 2025-04-17 22:00:00\n",
      "(2121, 1)\n",
      "Predicted: [[3300.7778]]\n",
      "Failed to upload prediction: 201 - {\"message\":\"Prediction created successfully\"}\n"
     ]
    },
    {
     "name": "stderr",
     "output_type": "stream",
     "text": [
      "WARNING:absl:You are saving your model as an HDF5 file via `model.save()` or `keras.saving.save_model(model)`. This file format is considered legacy. We recommend using instead the native Keras format, e.g. `model.save('my_model.keras')` or `keras.saving.save_model(model, 'my_model.keras')`. \n"
     ]
    },
    {
     "name": "stdout",
     "output_type": "stream",
     "text": [
      "Model finetuned in 0.694084882736206 seconds\n"
     ]
    },
    {
     "name": "stderr",
     "output_type": "stream",
     "text": [
      "WARNING:tvDatafeed.main:you are using nologin method, data you access may be limited\n",
      "WARNING:tvDatafeed.main:you are using nologin method, data you access may be limited\n"
     ]
    },
    {
     "name": "stdout",
     "output_type": "stream",
     "text": [
      "✅ Successfully appended 1 new records\n",
      "Last timestamp now: 2025-04-17 22:15:00\n",
      "(2122, 1)\n",
      "Predicted: [[3294.3628]]\n",
      "Failed to upload prediction: 201 - {\"message\":\"Prediction created successfully\"}\n"
     ]
    },
    {
     "name": "stderr",
     "output_type": "stream",
     "text": [
      "WARNING:absl:You are saving your model as an HDF5 file via `model.save()` or `keras.saving.save_model(model)`. This file format is considered legacy. We recommend using instead the native Keras format, e.g. `model.save('my_model.keras')` or `keras.saving.save_model(model, 'my_model.keras')`. \n"
     ]
    },
    {
     "name": "stdout",
     "output_type": "stream",
     "text": [
      "Model finetuned in 0.6384556293487549 seconds\n"
     ]
    },
    {
     "name": "stderr",
     "output_type": "stream",
     "text": [
      "WARNING:tvDatafeed.main:you are using nologin method, data you access may be limited\n",
      "WARNING:tvDatafeed.main:you are using nologin method, data you access may be limited\n"
     ]
    },
    {
     "name": "stdout",
     "output_type": "stream",
     "text": [
      "✅ Successfully appended 1 new records\n",
      "Last timestamp now: 2025-04-17 22:30:00\n",
      "(2123, 1)\n",
      "Predicted: [[3298.8538]]\n",
      "Failed to upload prediction: 201 - {\"message\":\"Prediction created successfully\"}\n"
     ]
    },
    {
     "name": "stderr",
     "output_type": "stream",
     "text": [
      "WARNING:absl:You are saving your model as an HDF5 file via `model.save()` or `keras.saving.save_model(model)`. This file format is considered legacy. We recommend using instead the native Keras format, e.g. `model.save('my_model.keras')` or `keras.saving.save_model(model, 'my_model.keras')`. \n"
     ]
    },
    {
     "name": "stdout",
     "output_type": "stream",
     "text": [
      "Model finetuned in 0.6506390571594238 seconds\n"
     ]
    },
    {
     "name": "stderr",
     "output_type": "stream",
     "text": [
      "WARNING:tvDatafeed.main:you are using nologin method, data you access may be limited\n",
      "WARNING:tvDatafeed.main:you are using nologin method, data you access may be limited\n"
     ]
    },
    {
     "name": "stdout",
     "output_type": "stream",
     "text": [
      "✅ Successfully appended 1 new records\n",
      "Last timestamp now: 2025-04-17 22:45:00\n",
      "(2124, 1)\n",
      "Predicted: [[3307.8433]]\n",
      "Failed to upload prediction: 201 - {\"message\":\"Prediction created successfully\"}\n"
     ]
    },
    {
     "name": "stderr",
     "output_type": "stream",
     "text": [
      "WARNING:absl:You are saving your model as an HDF5 file via `model.save()` or `keras.saving.save_model(model)`. This file format is considered legacy. We recommend using instead the native Keras format, e.g. `model.save('my_model.keras')` or `keras.saving.save_model(model, 'my_model.keras')`. \n"
     ]
    },
    {
     "name": "stdout",
     "output_type": "stream",
     "text": [
      "Model finetuned in 0.6538171768188477 seconds\n"
     ]
    },
    {
     "name": "stderr",
     "output_type": "stream",
     "text": [
      "WARNING:tvDatafeed.main:you are using nologin method, data you access may be limited\n",
      "WARNING:tvDatafeed.main:you are using nologin method, data you access may be limited\n"
     ]
    },
    {
     "name": "stdout",
     "output_type": "stream",
     "text": [
      "✅ Successfully appended 1 new records\n",
      "Last timestamp now: 2025-04-17 23:00:00\n",
      "(2125, 1)\n",
      "Predicted: [[3314.2246]]\n",
      "Failed to upload prediction: 201 - {\"message\":\"Prediction created successfully\"}\n"
     ]
    },
    {
     "name": "stderr",
     "output_type": "stream",
     "text": [
      "WARNING:absl:You are saving your model as an HDF5 file via `model.save()` or `keras.saving.save_model(model)`. This file format is considered legacy. We recommend using instead the native Keras format, e.g. `model.save('my_model.keras')` or `keras.saving.save_model(model, 'my_model.keras')`. \n"
     ]
    },
    {
     "name": "stdout",
     "output_type": "stream",
     "text": [
      "Model finetuned in 0.6307413578033447 seconds\n"
     ]
    },
    {
     "name": "stderr",
     "output_type": "stream",
     "text": [
      "WARNING:tvDatafeed.main:you are using nologin method, data you access may be limited\n",
      "WARNING:tvDatafeed.main:you are using nologin method, data you access may be limited\n"
     ]
    },
    {
     "name": "stdout",
     "output_type": "stream",
     "text": [
      "✅ Successfully appended 1 new records\n",
      "Last timestamp now: 2025-04-17 23:15:00\n",
      "(2126, 1)\n",
      "Predicted: [[3320.7065]]\n",
      "Failed to upload prediction: 201 - {\"message\":\"Prediction created successfully\"}\n"
     ]
    },
    {
     "name": "stderr",
     "output_type": "stream",
     "text": [
      "WARNING:absl:You are saving your model as an HDF5 file via `model.save()` or `keras.saving.save_model(model)`. This file format is considered legacy. We recommend using instead the native Keras format, e.g. `model.save('my_model.keras')` or `keras.saving.save_model(model, 'my_model.keras')`. \n"
     ]
    },
    {
     "name": "stdout",
     "output_type": "stream",
     "text": [
      "Model finetuned in 0.6333088874816895 seconds\n"
     ]
    },
    {
     "name": "stderr",
     "output_type": "stream",
     "text": [
      "WARNING:tvDatafeed.main:you are using nologin method, data you access may be limited\n",
      "WARNING:tvDatafeed.main:you are using nologin method, data you access may be limited\n"
     ]
    },
    {
     "name": "stdout",
     "output_type": "stream",
     "text": [
      "✅ Successfully appended 1 new records\n",
      "Last timestamp now: 2025-04-17 23:30:00\n",
      "(2127, 1)\n",
      "Predicted: [[3317.9756]]\n",
      "Failed to upload prediction: 201 - {\"message\":\"Prediction created successfully\"}\n"
     ]
    },
    {
     "name": "stderr",
     "output_type": "stream",
     "text": [
      "WARNING:absl:You are saving your model as an HDF5 file via `model.save()` or `keras.saving.save_model(model)`. This file format is considered legacy. We recommend using instead the native Keras format, e.g. `model.save('my_model.keras')` or `keras.saving.save_model(model, 'my_model.keras')`. \n"
     ]
    },
    {
     "name": "stdout",
     "output_type": "stream",
     "text": [
      "Model finetuned in 0.6647894382476807 seconds\n"
     ]
    },
    {
     "name": "stderr",
     "output_type": "stream",
     "text": [
      "WARNING:tvDatafeed.main:you are using nologin method, data you access may be limited\n",
      "WARNING:tvDatafeed.main:you are using nologin method, data you access may be limited\n"
     ]
    },
    {
     "name": "stdout",
     "output_type": "stream",
     "text": [
      "✅ Successfully appended 1 new records\n",
      "Last timestamp now: 2025-04-17 23:45:00\n",
      "(2128, 1)\n",
      "Predicted: [[3319.1267]]\n",
      "Failed to upload prediction: 201 - {\"message\":\"Prediction created successfully\"}\n"
     ]
    },
    {
     "name": "stderr",
     "output_type": "stream",
     "text": [
      "WARNING:absl:You are saving your model as an HDF5 file via `model.save()` or `keras.saving.save_model(model)`. This file format is considered legacy. We recommend using instead the native Keras format, e.g. `model.save('my_model.keras')` or `keras.saving.save_model(model, 'my_model.keras')`. \n"
     ]
    },
    {
     "name": "stdout",
     "output_type": "stream",
     "text": [
      "Model finetuned in 0.6509451866149902 seconds\n"
     ]
    },
    {
     "name": "stderr",
     "output_type": "stream",
     "text": [
      "WARNING:tvDatafeed.main:you are using nologin method, data you access may be limited\n",
      "WARNING:tvDatafeed.main:you are using nologin method, data you access may be limited\n"
     ]
    },
    {
     "name": "stdout",
     "output_type": "stream",
     "text": [
      "✅ Successfully appended 1 new records\n",
      "Last timestamp now: 2025-04-18 00:00:00\n",
      "(2129, 1)\n",
      "Predicted: [[3317.9895]]\n",
      "Failed to upload prediction: 201 - {\"message\":\"Prediction created successfully\"}\n"
     ]
    },
    {
     "name": "stderr",
     "output_type": "stream",
     "text": [
      "WARNING:absl:You are saving your model as an HDF5 file via `model.save()` or `keras.saving.save_model(model)`. This file format is considered legacy. We recommend using instead the native Keras format, e.g. `model.save('my_model.keras')` or `keras.saving.save_model(model, 'my_model.keras')`. \n"
     ]
    },
    {
     "name": "stdout",
     "output_type": "stream",
     "text": [
      "Model finetuned in 0.636815071105957 seconds\n"
     ]
    },
    {
     "name": "stderr",
     "output_type": "stream",
     "text": [
      "WARNING:tvDatafeed.main:you are using nologin method, data you access may be limited\n",
      "WARNING:tvDatafeed.main:you are using nologin method, data you access may be limited\n"
     ]
    },
    {
     "name": "stdout",
     "output_type": "stream",
     "text": [
      "✅ Successfully appended 1 new records\n",
      "Last timestamp now: 2025-04-18 00:15:00\n",
      "(2130, 1)\n",
      "Predicted: [[3320.8157]]\n",
      "Failed to upload prediction: 201 - {\"message\":\"Prediction created successfully\"}\n"
     ]
    },
    {
     "name": "stderr",
     "output_type": "stream",
     "text": [
      "WARNING:absl:You are saving your model as an HDF5 file via `model.save()` or `keras.saving.save_model(model)`. This file format is considered legacy. We recommend using instead the native Keras format, e.g. `model.save('my_model.keras')` or `keras.saving.save_model(model, 'my_model.keras')`. \n"
     ]
    },
    {
     "name": "stdout",
     "output_type": "stream",
     "text": [
      "Model finetuned in 0.6437313556671143 seconds\n"
     ]
    },
    {
     "name": "stderr",
     "output_type": "stream",
     "text": [
      "WARNING:tvDatafeed.main:you are using nologin method, data you access may be limited\n",
      "WARNING:tvDatafeed.main:you are using nologin method, data you access may be limited\n"
     ]
    },
    {
     "name": "stdout",
     "output_type": "stream",
     "text": [
      "✅ Successfully appended 1 new records\n",
      "Last timestamp now: 2025-04-18 00:30:00\n",
      "(2131, 1)\n",
      "Predicted: [[3321.6958]]\n",
      "Failed to upload prediction: 201 - {\"message\":\"Prediction created successfully\"}\n"
     ]
    },
    {
     "name": "stderr",
     "output_type": "stream",
     "text": [
      "WARNING:absl:You are saving your model as an HDF5 file via `model.save()` or `keras.saving.save_model(model)`. This file format is considered legacy. We recommend using instead the native Keras format, e.g. `model.save('my_model.keras')` or `keras.saving.save_model(model, 'my_model.keras')`. \n"
     ]
    },
    {
     "name": "stdout",
     "output_type": "stream",
     "text": [
      "Model finetuned in 0.6399941444396973 seconds\n"
     ]
    },
    {
     "name": "stderr",
     "output_type": "stream",
     "text": [
      "WARNING:tvDatafeed.main:you are using nologin method, data you access may be limited\n",
      "WARNING:tvDatafeed.main:you are using nologin method, data you access may be limited\n"
     ]
    },
    {
     "name": "stdout",
     "output_type": "stream",
     "text": [
      "✅ Successfully appended 1 new records\n",
      "Last timestamp now: 2025-04-18 00:45:00\n",
      "(2132, 1)\n",
      "Predicted: [[3319.9026]]\n",
      "Failed to upload prediction: 201 - {\"message\":\"Prediction created successfully\"}\n"
     ]
    },
    {
     "name": "stderr",
     "output_type": "stream",
     "text": [
      "WARNING:absl:You are saving your model as an HDF5 file via `model.save()` or `keras.saving.save_model(model)`. This file format is considered legacy. We recommend using instead the native Keras format, e.g. `model.save('my_model.keras')` or `keras.saving.save_model(model, 'my_model.keras')`. \n"
     ]
    },
    {
     "name": "stdout",
     "output_type": "stream",
     "text": [
      "Model finetuned in 0.6313514709472656 seconds\n"
     ]
    },
    {
     "name": "stderr",
     "output_type": "stream",
     "text": [
      "WARNING:tvDatafeed.main:you are using nologin method, data you access may be limited\n",
      "WARNING:tvDatafeed.main:you are using nologin method, data you access may be limited\n"
     ]
    },
    {
     "name": "stdout",
     "output_type": "stream",
     "text": [
      "✅ Successfully appended 1 new records\n",
      "Last timestamp now: 2025-04-18 01:00:00\n",
      "(2133, 1)\n",
      "Predicted: [[3322.539]]\n",
      "Failed to upload prediction: 201 - {\"message\":\"Prediction created successfully\"}\n"
     ]
    },
    {
     "name": "stderr",
     "output_type": "stream",
     "text": [
      "WARNING:absl:You are saving your model as an HDF5 file via `model.save()` or `keras.saving.save_model(model)`. This file format is considered legacy. We recommend using instead the native Keras format, e.g. `model.save('my_model.keras')` or `keras.saving.save_model(model, 'my_model.keras')`. \n"
     ]
    },
    {
     "name": "stdout",
     "output_type": "stream",
     "text": [
      "Model finetuned in 0.627288818359375 seconds\n"
     ]
    },
    {
     "name": "stderr",
     "output_type": "stream",
     "text": [
      "WARNING:tvDatafeed.main:you are using nologin method, data you access may be limited\n",
      "WARNING:tvDatafeed.main:you are using nologin method, data you access may be limited\n"
     ]
    },
    {
     "name": "stdout",
     "output_type": "stream",
     "text": [
      "✅ Successfully appended 1 new records\n",
      "Last timestamp now: 2025-04-18 01:15:00\n",
      "(2134, 1)\n",
      "Predicted: [[3318.6326]]\n",
      "Failed to upload prediction: 201 - {\"message\":\"Prediction created successfully\"}\n"
     ]
    },
    {
     "name": "stderr",
     "output_type": "stream",
     "text": [
      "WARNING:absl:You are saving your model as an HDF5 file via `model.save()` or `keras.saving.save_model(model)`. This file format is considered legacy. We recommend using instead the native Keras format, e.g. `model.save('my_model.keras')` or `keras.saving.save_model(model, 'my_model.keras')`. \n"
     ]
    },
    {
     "name": "stdout",
     "output_type": "stream",
     "text": [
      "Model finetuned in 0.6425352096557617 seconds\n"
     ]
    },
    {
     "name": "stderr",
     "output_type": "stream",
     "text": [
      "WARNING:tvDatafeed.main:you are using nologin method, data you access may be limited\n",
      "WARNING:tvDatafeed.main:you are using nologin method, data you access may be limited\n"
     ]
    },
    {
     "name": "stdout",
     "output_type": "stream",
     "text": [
      "✅ Successfully appended 1 new records\n",
      "Last timestamp now: 2025-04-18 01:30:00\n",
      "(2135, 1)\n",
      "Predicted: [[3317.701]]\n",
      "Failed to upload prediction: 201 - {\"message\":\"Prediction created successfully\"}\n"
     ]
    },
    {
     "name": "stderr",
     "output_type": "stream",
     "text": [
      "WARNING:absl:You are saving your model as an HDF5 file via `model.save()` or `keras.saving.save_model(model)`. This file format is considered legacy. We recommend using instead the native Keras format, e.g. `model.save('my_model.keras')` or `keras.saving.save_model(model, 'my_model.keras')`. \n"
     ]
    },
    {
     "name": "stdout",
     "output_type": "stream",
     "text": [
      "Model finetuned in 0.6403920650482178 seconds\n"
     ]
    },
    {
     "name": "stderr",
     "output_type": "stream",
     "text": [
      "WARNING:tvDatafeed.main:you are using nologin method, data you access may be limited\n",
      "WARNING:tvDatafeed.main:you are using nologin method, data you access may be limited\n"
     ]
    },
    {
     "name": "stdout",
     "output_type": "stream",
     "text": [
      "✅ Successfully appended 1 new records\n",
      "Last timestamp now: 2025-04-18 01:45:00\n",
      "(2136, 1)\n",
      "Predicted: [[3315.9392]]\n",
      "Failed to upload prediction: 201 - {\"message\":\"Prediction created successfully\"}\n"
     ]
    },
    {
     "name": "stderr",
     "output_type": "stream",
     "text": [
      "WARNING:absl:You are saving your model as an HDF5 file via `model.save()` or `keras.saving.save_model(model)`. This file format is considered legacy. We recommend using instead the native Keras format, e.g. `model.save('my_model.keras')` or `keras.saving.save_model(model, 'my_model.keras')`. \n"
     ]
    },
    {
     "name": "stdout",
     "output_type": "stream",
     "text": [
      "Model finetuned in 0.6307189464569092 seconds\n"
     ]
    },
    {
     "name": "stderr",
     "output_type": "stream",
     "text": [
      "WARNING:tvDatafeed.main:you are using nologin method, data you access may be limited\n",
      "WARNING:tvDatafeed.main:you are using nologin method, data you access may be limited\n"
     ]
    },
    {
     "name": "stdout",
     "output_type": "stream",
     "text": [
      "✅ Successfully appended 1 new records\n",
      "Last timestamp now: 2025-04-18 02:00:00\n",
      "(2137, 1)\n",
      "Predicted: [[3321.2324]]\n",
      "Failed to upload prediction: 201 - {\"message\":\"Prediction created successfully\"}\n"
     ]
    },
    {
     "name": "stderr",
     "output_type": "stream",
     "text": [
      "WARNING:absl:You are saving your model as an HDF5 file via `model.save()` or `keras.saving.save_model(model)`. This file format is considered legacy. We recommend using instead the native Keras format, e.g. `model.save('my_model.keras')` or `keras.saving.save_model(model, 'my_model.keras')`. \n"
     ]
    },
    {
     "name": "stdout",
     "output_type": "stream",
     "text": [
      "Model finetuned in 0.6240794658660889 seconds\n"
     ]
    },
    {
     "name": "stderr",
     "output_type": "stream",
     "text": [
      "WARNING:tvDatafeed.main:you are using nologin method, data you access may be limited\n",
      "WARNING:tvDatafeed.main:you are using nologin method, data you access may be limited\n"
     ]
    },
    {
     "name": "stdout",
     "output_type": "stream",
     "text": [
      "✅ Successfully appended 1 new records\n",
      "Last timestamp now: 2025-04-18 02:15:00\n",
      "(2138, 1)\n",
      "Predicted: [[3327.646]]\n",
      "Failed to upload prediction: 201 - {\"message\":\"Prediction created successfully\"}\n"
     ]
    },
    {
     "name": "stderr",
     "output_type": "stream",
     "text": [
      "WARNING:absl:You are saving your model as an HDF5 file via `model.save()` or `keras.saving.save_model(model)`. This file format is considered legacy. We recommend using instead the native Keras format, e.g. `model.save('my_model.keras')` or `keras.saving.save_model(model, 'my_model.keras')`. \n"
     ]
    },
    {
     "name": "stdout",
     "output_type": "stream",
     "text": [
      "Model finetuned in 0.6391966342926025 seconds\n"
     ]
    },
    {
     "name": "stderr",
     "output_type": "stream",
     "text": [
      "WARNING:tvDatafeed.main:you are using nologin method, data you access may be limited\n",
      "WARNING:tvDatafeed.main:you are using nologin method, data you access may be limited\n"
     ]
    },
    {
     "name": "stdout",
     "output_type": "stream",
     "text": [
      "✅ Successfully appended 1 new records\n",
      "Last timestamp now: 2025-04-18 02:30:00\n",
      "(2139, 1)\n",
      "Predicted: [[3330.6738]]\n",
      "Failed to upload prediction: 201 - {\"message\":\"Prediction created successfully\"}\n"
     ]
    },
    {
     "name": "stderr",
     "output_type": "stream",
     "text": [
      "WARNING:absl:You are saving your model as an HDF5 file via `model.save()` or `keras.saving.save_model(model)`. This file format is considered legacy. We recommend using instead the native Keras format, e.g. `model.save('my_model.keras')` or `keras.saving.save_model(model, 'my_model.keras')`. \n"
     ]
    },
    {
     "name": "stdout",
     "output_type": "stream",
     "text": [
      "Model finetuned in 0.6544244289398193 seconds\n"
     ]
    },
    {
     "name": "stderr",
     "output_type": "stream",
     "text": [
      "WARNING:tvDatafeed.main:you are using nologin method, data you access may be limited\n",
      "WARNING:tvDatafeed.main:you are using nologin method, data you access may be limited\n"
     ]
    },
    {
     "name": "stdout",
     "output_type": "stream",
     "text": [
      "✅ Successfully appended 1 new records\n",
      "Last timestamp now: 2025-04-18 02:45:00\n",
      "(2140, 1)\n",
      "Predicted: [[3327.7178]]\n",
      "Failed to upload prediction: 201 - {\"message\":\"Prediction created successfully\"}\n"
     ]
    },
    {
     "name": "stderr",
     "output_type": "stream",
     "text": [
      "WARNING:absl:You are saving your model as an HDF5 file via `model.save()` or `keras.saving.save_model(model)`. This file format is considered legacy. We recommend using instead the native Keras format, e.g. `model.save('my_model.keras')` or `keras.saving.save_model(model, 'my_model.keras')`. \n"
     ]
    },
    {
     "name": "stdout",
     "output_type": "stream",
     "text": [
      "Model finetuned in 0.6452250480651855 seconds\n"
     ]
    },
    {
     "name": "stderr",
     "output_type": "stream",
     "text": [
      "WARNING:tvDatafeed.main:you are using nologin method, data you access may be limited\n",
      "WARNING:tvDatafeed.main:you are using nologin method, data you access may be limited\n",
      "WARNING:tvDatafeed.main:you are using nologin method, data you access may be limited\n",
      "WARNING:tvDatafeed.main:you are using nologin method, data you access may be limited\n",
      "WARNING:tvDatafeed.main:you are using nologin method, data you access may be limited\n",
      "WARNING:tvDatafeed.main:you are using nologin method, data you access may be limited\n",
      "WARNING:tvDatafeed.main:you are using nologin method, data you access may be limited\n",
      "WARNING:tvDatafeed.main:you are using nologin method, data you access may be limited\n",
      "WARNING:tvDatafeed.main:you are using nologin method, data you access may be limited\n",
      "WARNING:tvDatafeed.main:you are using nologin method, data you access may be limited\n",
      "WARNING:tvDatafeed.main:you are using nologin method, data you access may be limited\n",
      "WARNING:tvDatafeed.main:you are using nologin method, data you access may be limited\n",
      "WARNING:tvDatafeed.main:you are using nologin method, data you access may be limited\n",
      "WARNING:tvDatafeed.main:you are using nologin method, data you access may be limited\n",
      "WARNING:tvDatafeed.main:you are using nologin method, data you access may be limited\n",
      "WARNING:tvDatafeed.main:you are using nologin method, data you access may be limited\n",
      "WARNING:tvDatafeed.main:you are using nologin method, data you access may be limited\n",
      "WARNING:tvDatafeed.main:you are using nologin method, data you access may be limited\n",
      "WARNING:tvDatafeed.main:you are using nologin method, data you access may be limited\n",
      "WARNING:tvDatafeed.main:you are using nologin method, data you access may be limited\n",
      "WARNING:tvDatafeed.main:you are using nologin method, data you access may be limited\n",
      "WARNING:tvDatafeed.main:you are using nologin method, data you access may be limited\n",
      "WARNING:tvDatafeed.main:you are using nologin method, data you access may be limited\n",
      "WARNING:tvDatafeed.main:you are using nologin method, data you access may be limited\n",
      "WARNING:tvDatafeed.main:you are using nologin method, data you access may be limited\n",
      "WARNING:tvDatafeed.main:you are using nologin method, data you access may be limited\n",
      "WARNING:tvDatafeed.main:you are using nologin method, data you access may be limited\n",
      "WARNING:tvDatafeed.main:you are using nologin method, data you access may be limited\n",
      "WARNING:tvDatafeed.main:you are using nologin method, data you access may be limited\n",
      "WARNING:tvDatafeed.main:you are using nologin method, data you access may be limited\n",
      "WARNING:tvDatafeed.main:you are using nologin method, data you access may be limited\n",
      "WARNING:tvDatafeed.main:you are using nologin method, data you access may be limited\n",
      "WARNING:tvDatafeed.main:you are using nologin method, data you access may be limited\n",
      "WARNING:tvDatafeed.main:you are using nologin method, data you access may be limited\n",
      "WARNING:tvDatafeed.main:you are using nologin method, data you access may be limited\n",
      "WARNING:tvDatafeed.main:you are using nologin method, data you access may be limited\n",
      "WARNING:tvDatafeed.main:you are using nologin method, data you access may be limited\n",
      "WARNING:tvDatafeed.main:you are using nologin method, data you access may be limited\n",
      "WARNING:tvDatafeed.main:you are using nologin method, data you access may be limited\n",
      "WARNING:tvDatafeed.main:you are using nologin method, data you access may be limited\n",
      "WARNING:tvDatafeed.main:you are using nologin method, data you access may be limited\n",
      "WARNING:tvDatafeed.main:you are using nologin method, data you access may be limited\n",
      "WARNING:tvDatafeed.main:you are using nologin method, data you access may be limited\n",
      "WARNING:tvDatafeed.main:you are using nologin method, data you access may be limited\n",
      "WARNING:tvDatafeed.main:you are using nologin method, data you access may be limited\n",
      "WARNING:tvDatafeed.main:you are using nologin method, data you access may be limited\n",
      "WARNING:tvDatafeed.main:you are using nologin method, data you access may be limited\n",
      "WARNING:tvDatafeed.main:you are using nologin method, data you access may be limited\n",
      "WARNING:tvDatafeed.main:you are using nologin method, data you access may be limited\n",
      "WARNING:tvDatafeed.main:you are using nologin method, data you access may be limited\n",
      "WARNING:tvDatafeed.main:you are using nologin method, data you access may be limited\n",
      "WARNING:tvDatafeed.main:you are using nologin method, data you access may be limited\n",
      "WARNING:tvDatafeed.main:you are using nologin method, data you access may be limited\n",
      "WARNING:tvDatafeed.main:you are using nologin method, data you access may be limited\n",
      "WARNING:tvDatafeed.main:you are using nologin method, data you access may be limited\n",
      "WARNING:tvDatafeed.main:you are using nologin method, data you access may be limited\n",
      "WARNING:tvDatafeed.main:you are using nologin method, data you access may be limited\n",
      "WARNING:tvDatafeed.main:you are using nologin method, data you access may be limited\n",
      "WARNING:tvDatafeed.main:you are using nologin method, data you access may be limited\n",
      "WARNING:tvDatafeed.main:you are using nologin method, data you access may be limited\n",
      "WARNING:tvDatafeed.main:you are using nologin method, data you access may be limited\n",
      "WARNING:tvDatafeed.main:you are using nologin method, data you access may be limited\n",
      "WARNING:tvDatafeed.main:you are using nologin method, data you access may be limited\n",
      "WARNING:tvDatafeed.main:you are using nologin method, data you access may be limited\n",
      "WARNING:tvDatafeed.main:you are using nologin method, data you access may be limited\n",
      "WARNING:tvDatafeed.main:you are using nologin method, data you access may be limited\n",
      "WARNING:tvDatafeed.main:you are using nologin method, data you access may be limited\n",
      "WARNING:tvDatafeed.main:you are using nologin method, data you access may be limited\n",
      "WARNING:tvDatafeed.main:you are using nologin method, data you access may be limited\n",
      "WARNING:tvDatafeed.main:you are using nologin method, data you access may be limited\n",
      "WARNING:tvDatafeed.main:you are using nologin method, data you access may be limited\n",
      "WARNING:tvDatafeed.main:you are using nologin method, data you access may be limited\n",
      "WARNING:tvDatafeed.main:you are using nologin method, data you access may be limited\n",
      "WARNING:tvDatafeed.main:you are using nologin method, data you access may be limited\n",
      "WARNING:tvDatafeed.main:you are using nologin method, data you access may be limited\n",
      "WARNING:tvDatafeed.main:you are using nologin method, data you access may be limited\n",
      "WARNING:tvDatafeed.main:you are using nologin method, data you access may be limited\n",
      "WARNING:tvDatafeed.main:you are using nologin method, data you access may be limited\n",
      "WARNING:tvDatafeed.main:you are using nologin method, data you access may be limited\n",
      "WARNING:tvDatafeed.main:you are using nologin method, data you access may be limited\n",
      "WARNING:tvDatafeed.main:you are using nologin method, data you access may be limited\n",
      "WARNING:tvDatafeed.main:you are using nologin method, data you access may be limited\n",
      "WARNING:tvDatafeed.main:you are using nologin method, data you access may be limited\n",
      "WARNING:tvDatafeed.main:you are using nologin method, data you access may be limited\n",
      "WARNING:tvDatafeed.main:you are using nologin method, data you access may be limited\n",
      "WARNING:tvDatafeed.main:you are using nologin method, data you access may be limited\n",
      "WARNING:tvDatafeed.main:you are using nologin method, data you access may be limited\n",
      "WARNING:tvDatafeed.main:you are using nologin method, data you access may be limited\n",
      "WARNING:tvDatafeed.main:you are using nologin method, data you access may be limited\n",
      "WARNING:tvDatafeed.main:you are using nologin method, data you access may be limited\n",
      "WARNING:tvDatafeed.main:you are using nologin method, data you access may be limited\n",
      "WARNING:tvDatafeed.main:you are using nologin method, data you access may be limited\n",
      "WARNING:tvDatafeed.main:you are using nologin method, data you access may be limited\n",
      "WARNING:tvDatafeed.main:you are using nologin method, data you access may be limited\n",
      "WARNING:tvDatafeed.main:you are using nologin method, data you access may be limited\n",
      "WARNING:tvDatafeed.main:you are using nologin method, data you access may be limited\n",
      "WARNING:tvDatafeed.main:you are using nologin method, data you access may be limited\n",
      "WARNING:tvDatafeed.main:you are using nologin method, data you access may be limited\n",
      "WARNING:tvDatafeed.main:you are using nologin method, data you access may be limited\n",
      "WARNING:tvDatafeed.main:you are using nologin method, data you access may be limited\n",
      "WARNING:tvDatafeed.main:you are using nologin method, data you access may be limited\n",
      "WARNING:tvDatafeed.main:you are using nologin method, data you access may be limited\n",
      "WARNING:tvDatafeed.main:you are using nologin method, data you access may be limited\n",
      "WARNING:tvDatafeed.main:you are using nologin method, data you access may be limited\n",
      "WARNING:tvDatafeed.main:you are using nologin method, data you access may be limited\n",
      "WARNING:tvDatafeed.main:you are using nologin method, data you access may be limited\n",
      "WARNING:tvDatafeed.main:you are using nologin method, data you access may be limited\n",
      "WARNING:tvDatafeed.main:you are using nologin method, data you access may be limited\n",
      "WARNING:tvDatafeed.main:you are using nologin method, data you access may be limited\n",
      "WARNING:tvDatafeed.main:you are using nologin method, data you access may be limited\n",
      "WARNING:tvDatafeed.main:you are using nologin method, data you access may be limited\n",
      "WARNING:tvDatafeed.main:you are using nologin method, data you access may be limited\n",
      "WARNING:tvDatafeed.main:you are using nologin method, data you access may be limited\n",
      "WARNING:tvDatafeed.main:you are using nologin method, data you access may be limited\n",
      "WARNING:tvDatafeed.main:you are using nologin method, data you access may be limited\n",
      "WARNING:tvDatafeed.main:you are using nologin method, data you access may be limited\n",
      "WARNING:tvDatafeed.main:you are using nologin method, data you access may be limited\n",
      "WARNING:tvDatafeed.main:you are using nologin method, data you access may be limited\n",
      "WARNING:tvDatafeed.main:you are using nologin method, data you access may be limited\n",
      "WARNING:tvDatafeed.main:you are using nologin method, data you access may be limited\n",
      "WARNING:tvDatafeed.main:you are using nologin method, data you access may be limited\n",
      "WARNING:tvDatafeed.main:you are using nologin method, data you access may be limited\n",
      "WARNING:tvDatafeed.main:you are using nologin method, data you access may be limited\n",
      "WARNING:tvDatafeed.main:you are using nologin method, data you access may be limited\n",
      "WARNING:tvDatafeed.main:you are using nologin method, data you access may be limited\n",
      "WARNING:tvDatafeed.main:you are using nologin method, data you access may be limited\n",
      "WARNING:tvDatafeed.main:you are using nologin method, data you access may be limited\n",
      "WARNING:tvDatafeed.main:you are using nologin method, data you access may be limited\n",
      "WARNING:tvDatafeed.main:you are using nologin method, data you access may be limited\n",
      "WARNING:tvDatafeed.main:you are using nologin method, data you access may be limited\n",
      "WARNING:tvDatafeed.main:you are using nologin method, data you access may be limited\n",
      "WARNING:tvDatafeed.main:you are using nologin method, data you access may be limited\n",
      "WARNING:tvDatafeed.main:you are using nologin method, data you access may be limited\n",
      "WARNING:tvDatafeed.main:you are using nologin method, data you access may be limited\n",
      "WARNING:tvDatafeed.main:you are using nologin method, data you access may be limited\n"
     ]
    },
    {
     "ename": "KeyboardInterrupt",
     "evalue": "",
     "output_type": "error",
     "traceback": [
      "\u001b[0;31m---------------------------------------------------------------------------\u001b[0m",
      "\u001b[0;31mKeyboardInterrupt\u001b[0m                         Traceback (most recent call last)",
      "Cell \u001b[0;32mIn[31], line 18\u001b[0m\n\u001b[1;32m     16\u001b[0m remainder \u001b[38;5;241m=\u001b[39m \u001b[38;5;241m15\u001b[39m \u001b[38;5;241m-\u001b[39m (current_minute \u001b[38;5;241m%\u001b[39m \u001b[38;5;241m15\u001b[39m)\n\u001b[1;32m     17\u001b[0m time\u001b[38;5;241m.\u001b[39msleep((remainder \u001b[38;5;241m-\u001b[39m \u001b[38;5;241m1\u001b[39m) \u001b[38;5;241m*\u001b[39m \u001b[38;5;241m60\u001b[39m)\n\u001b[0;32m---> 18\u001b[0m \u001b[43mget_new_data\u001b[49m\u001b[43m(\u001b[49m\u001b[43m)\u001b[49m\n",
      "Cell \u001b[0;32mIn[27], line 44\u001b[0m, in \u001b[0;36mget_new_data\u001b[0;34m()\u001b[0m\n\u001b[1;32m     40\u001b[0m     \u001b[38;5;28;01mbreak\u001b[39;00m\n\u001b[1;32m     42\u001b[0m \u001b[38;5;28;01melif\u001b[39;00m new_datetime \u001b[38;5;241m==\u001b[39m last_datetime:\n\u001b[1;32m     43\u001b[0m     \u001b[38;5;66;03m# print(\"🔄 Data already exists. No update needed.\")\u001b[39;00m\n\u001b[0;32m---> 44\u001b[0m     \u001b[43mtime\u001b[49m\u001b[38;5;241;43m.\u001b[39;49m\u001b[43msleep\u001b[49m\u001b[43m(\u001b[49m\u001b[38;5;241;43m60\u001b[39;49m\u001b[43m)\u001b[49m\n\u001b[1;32m     45\u001b[0m     \u001b[38;5;28;01mcontinue\u001b[39;00m\n\u001b[1;32m     47\u001b[0m \u001b[38;5;28;01melse\u001b[39;00m:\n\u001b[1;32m     48\u001b[0m     \u001b[38;5;66;03m# print(f\"⏳ New data ({new_datetime}) is older than last record ({last_datetime})\")\u001b[39;00m\n",
      "\u001b[0;31mKeyboardInterrupt\u001b[0m: "
     ]
    }
   ],
   "source": [
    "model = load_model('fine_tune_model_march_27_2nd_trial.h5')\n",
    "model.compile(\n",
    "    loss=tf.keras.losses.MeanSquaredError(),\n",
    "    optimizer=tf.keras.optimizers.Adam(learning_rate=learning_rate * 0.1)  # Lower learning rate for fine-tuning\n",
    ")\n",
    "while(True):\n",
    "    \n",
    "    X_test_new, y_test_new, y_test_new_original = init()\n",
    "    results = []\n",
    "    results = assume_and_upload(model, X_test_new, y_test_new, scaler, y_test_new_original, results)\n",
    "    # assume_and_upload(model, X_test_new, y_test_new, scaler, y_test_new_original, results)\n",
    "    results = finetune(model, X_test_new, y_test_new, scaler, y_test_new_original, results)\n",
    "    current_timestamp = time.time()\n",
    "    current_time = time.localtime(current_timestamp)\n",
    "    current_minute = current_time.tm_min  # Extract minute (0-59)\n",
    "    remainder = 15 - (current_minute % 15)\n",
    "    time.sleep((remainder - 1) * 60)\n",
    "    get_new_data()\n",
    "    "
   ]
  },
  {
   "cell_type": "code",
   "execution_count": null,
   "metadata": {},
   "outputs": [
    {
     "name": "stderr",
     "output_type": "stream",
     "text": [
      "WARNING:absl:Compiled the loaded model, but the compiled metrics have yet to be built. `model.compile_metrics` will be empty until you train or evaluate the model.\n"
     ]
    }
   ],
   "source": [
    "# model = load_model('fine_tune_model_march_27.h5')\n",
    "# model.compile(\n",
    "#         loss=tf.keras.losses.MeanSquaredError(),\n",
    "#         optimizer=tf.keras.optimizers.Adam(learning_rate=learning_rate * 0.1)  # Lower learning rate for fine-tuning\n",
    "#     )\n",
    "\n"
   ]
  },
  {
   "cell_type": "code",
   "execution_count": null,
   "metadata": {},
   "outputs": [
    {
     "name": "stdout",
     "output_type": "stream",
     "text": [
      "Predicted: [[3024.6055]]\n",
      "Failed to upload prediction: 201 - {\"message\":\"Prediction created successfully\"}\n",
      "[array([[3024.6055]], dtype=float32)]\n"
     ]
    }
   ],
   "source": [
    "# results = assume_and_upload(model, x, y, scaler, y_original, [])\n",
    "# print(results)"
   ]
  },
  {
   "cell_type": "code",
   "execution_count": null,
   "metadata": {},
   "outputs": [],
   "source": []
  }
 ],
 "metadata": {
  "kernelspec": {
   "display_name": "finbert",
   "language": "python",
   "name": "python3"
  },
  "language_info": {
   "codemirror_mode": {
    "name": "ipython",
    "version": 3
   },
   "file_extension": ".py",
   "mimetype": "text/x-python",
   "name": "python",
   "nbconvert_exporter": "python",
   "pygments_lexer": "ipython3",
   "version": "3.9.21"
  }
 },
 "nbformat": 4,
 "nbformat_minor": 2
}
