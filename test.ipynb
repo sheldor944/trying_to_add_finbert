{
 "cells": [
  {
   "cell_type": "code",
   "execution_count": 1,
   "metadata": {},
   "outputs": [
    {
     "name": "stderr",
     "output_type": "stream",
     "text": [
      "2025-03-28 19:42:12.427202: E external/local_xla/xla/stream_executor/cuda/cuda_fft.cc:485] Unable to register cuFFT factory: Attempting to register factory for plugin cuFFT when one has already been registered\n",
      "2025-03-28 19:42:12.439509: E external/local_xla/xla/stream_executor/cuda/cuda_dnn.cc:8454] Unable to register cuDNN factory: Attempting to register factory for plugin cuDNN when one has already been registered\n",
      "2025-03-28 19:42:12.443528: E external/local_xla/xla/stream_executor/cuda/cuda_blas.cc:1452] Unable to register cuBLAS factory: Attempting to register factory for plugin cuBLAS when one has already been registered\n",
      "2025-03-28 19:42:12.455114: I tensorflow/core/platform/cpu_feature_guard.cc:210] This TensorFlow binary is optimized to use available CPU instructions in performance-critical operations.\n",
      "To enable the following instructions: SSE4.1 SSE4.2 AVX AVX2 FMA, in other operations, rebuild TensorFlow with the appropriate compiler flags.\n",
      "2025-03-28 19:42:15.771670: E external/local_xla/xla/stream_executor/cuda/cuda_driver.cc:266] failed call to cuInit: CUDA_ERROR_UNKNOWN: unknown error\n",
      "2025-03-28 19:42:15.771707: I external/local_xla/xla/stream_executor/cuda/cuda_diagnostics.cc:135] retrieving CUDA diagnostic information for host: sheldor\n",
      "2025-03-28 19:42:15.771712: I external/local_xla/xla/stream_executor/cuda/cuda_diagnostics.cc:142] hostname: sheldor\n",
      "2025-03-28 19:42:15.771907: I external/local_xla/xla/stream_executor/cuda/cuda_diagnostics.cc:166] libcuda reported version is: 550.144.3\n",
      "2025-03-28 19:42:15.771924: I external/local_xla/xla/stream_executor/cuda/cuda_diagnostics.cc:170] kernel reported version is: 550.144.3\n",
      "2025-03-28 19:42:15.771929: I external/local_xla/xla/stream_executor/cuda/cuda_diagnostics.cc:249] kernel version seems to match DSO: 550.144.3\n",
      "WARNING:absl:Compiled the loaded model, but the compiled metrics have yet to be built. `model.compile_metrics` will be empty until you train or evaluate the model.\n"
     ]
    }
   ],
   "source": [
    "from keras.models import load_model\n",
    "model = load_model(f'model(split.8)_after_training_iter_0.h5')"
   ]
  },
  {
   "cell_type": "code",
   "execution_count": 15,
   "metadata": {},
   "outputs": [
    {
     "name": "stdout",
     "output_type": "stream",
     "text": [
      "Current timestamp: 1743196382.004484\n",
      "Current remainder: 13\n",
      "Current local time: 3:13\n",
      "❌ Current minute (13) is NOT a 15-minute interval\n"
     ]
    }
   ],
   "source": [
    "import time\n",
    "\n",
    "# Get current timestamp (Unix epoch time)\n",
    "current_timestamp = time.time()\n",
    "print(f\"Current timestamp: {current_timestamp}\")\n",
    "\n",
    "# Get current struct_time (local time)\n",
    "current_time = time.localtime(current_timestamp)\n",
    "current_minute = current_time.tm_min  # Extract minute (0-59)\n",
    "remainder = current_minute % 15  # Calculate remainder when divided by 15\n",
    "print(f\"Current remainder: {remainder}\")\n",
    "print(f\"Current local time: {current_time.tm_hour}:{current_minute}\")\n",
    "\n",
    "# Check if minute is divisible by 15\n",
    "if current_minute % 15 == 0:\n",
    "    print(f\"✅ Current minute ({current_minute}) is a 15-minute interval (00, 15, 30, 45)\")\n",
    "else:\n",
    "    print(f\"❌ Current minute ({current_minute}) is NOT a 15-minute interval\")"
   ]
  }
 ],
 "metadata": {
  "kernelspec": {
   "display_name": "finbert",
   "language": "python",
   "name": "python3"
  },
  "language_info": {
   "codemirror_mode": {
    "name": "ipython",
    "version": 3
   },
   "file_extension": ".py",
   "mimetype": "text/x-python",
   "name": "python",
   "nbconvert_exporter": "python",
   "pygments_lexer": "ipython3",
   "version": "3.9.21"
  }
 },
 "nbformat": 4,
 "nbformat_minor": 2
}
